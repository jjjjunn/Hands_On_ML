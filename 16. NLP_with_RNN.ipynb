{
 "cells": [
  {
   "cell_type": "code",
   "execution_count": 1,
   "id": "1710b1c0-182b-43db-b658-225871399958",
   "metadata": {},
   "outputs": [],
   "source": [
    "import pandas as pd\n",
    "import numpy as np\n",
    "import warnings\n",
    "warnings.filterwarnings('ignore')\n",
    "\n",
    "# 운영 체제 정보를 확인하고, matplotlib을 사용하여 그래프 그릴 준비하기\n",
    "import platform\n",
    "import matplotlib.pyplot as plt\n",
    "\n",
    "%matplotlib inline\n",
    "\n",
    "path = \"c:/Windows/Fonts/malgun.ttf\"\n",
    "\n",
    "from matplotlib import font_manager, rc\n",
    "if platform.system() == 'Windows':\n",
    "    font_name = font_manager.FontProperties(fname=path).get_name()\n",
    "    rc('font', family=font_name)\n",
    "else:\n",
    "    print('Sorry')\n",
    "\n",
    "plt.rcParams['axes.unicode_minus'] = False"
   ]
  },
  {
   "cell_type": "code",
   "execution_count": 2,
   "id": "1dd78fbc-67c7-496b-9973-2c00fe24bf1e",
   "metadata": {},
   "outputs": [],
   "source": [
    "import tensorflow as tf\n",
    "with tf.device('/GPU:0'):\n",
    "  a = tf.constant([[1.0, 2.0], [4.0, 5.0]])"
   ]
  },
  {
   "cell_type": "code",
   "execution_count": 3,
   "id": "f7eda81e-df9c-40d5-a424-bd44d1932fef",
   "metadata": {},
   "outputs": [
    {
     "name": "stdout",
     "output_type": "stream",
     "text": [
      "TensorFlow version: 2.6.0\n",
      "GPU is available\n"
     ]
    }
   ],
   "source": [
    "print(\"TensorFlow version:\", tf.__version__)\n",
    "print(\"GPU is\", \"available\" if tf.config.list_physical_devices('GPU') else \"NOT AVAILABLE\")"
   ]
  },
  {
   "cell_type": "code",
   "execution_count": 12,
   "id": "5854c10e-baf6-4ed4-843d-b8dda3c0305c",
   "metadata": {},
   "outputs": [
    {
     "name": "stdout",
     "output_type": "stream",
     "text": [
      "First Citizen:\n",
      "Before we proceed any further, hear me speak.\n",
      "\n",
      "All:\n",
      "Speak, speak.\n"
     ]
    }
   ],
   "source": [
    "shakespeare_url = 'http://homl.info/shakespeare'\n",
    "filepath = tf.keras.utils.get_file('shakespeare.txt', shakespeare_url)\n",
    "with open(filepath) as f:\n",
    "    shakespeare_text = f.read()\n",
    "\n",
    "# 파일이 잘 다운로드 됐는지 확인\n",
    "print(shakespeare_text[:80])"
   ]
  },
  {
   "cell_type": "code",
   "execution_count": 13,
   "id": "63e13765-aa1a-4910-8c6b-dd03b0ae7789",
   "metadata": {},
   "outputs": [
    {
     "name": "stdout",
     "output_type": "stream",
     "text": [
      "29\n",
      "1060997\n"
     ]
    }
   ],
   "source": [
    "# 사용자 정의 분할 함수 정의\n",
    "def character_split(string):\n",
    "    return tf.strings.unicode_split(string, 'UTF-8')\n",
    "\n",
    "# 사용자 정의 분할 함수 사용\n",
    "text_vec_layer = tf.keras.layers.TextVectorization(\n",
    "    split=character_split, \n",
    "    standardize='lower_and_strip_punctuation'\n",
    ")\n",
    "\n",
    "text_vec_layer.adapt([shakespeare_text])\n",
    "encoded = text_vec_layer([shakespeare_text])[0]\n",
    "\n",
    "encoded -= 2  # 토큰 0(패딩 토큰)과 1(알려지지 않은 문자)을 사용하지 않으므로 무시\n",
    "\n",
    "n_tokens = text_vec_layer.vocabulary_size() - 2\n",
    "dataset_size = len(encoded)\n",
    "\n",
    "print(n_tokens)\n",
    "print(dataset_size)"
   ]
  },
  {
   "cell_type": "code",
   "execution_count": 14,
   "id": "077421b3-4525-4aee-9d76-27b0b5133d00",
   "metadata": {},
   "outputs": [],
   "source": [
    "def to_dataset(sequence, length, shuffle=False, seed=None, batch_size=32):\n",
    "    ds = tf.data.Dataset.from_tensor_slices(sequence)\n",
    "    ds = ds.window(length + 1, shift=1, drop_remainder=True)\n",
    "    ds = ds.flat_map(lambda window_ds: window_ds.batch(length + 1))\n",
    "    if shuffle:\n",
    "        ds = ds.shuffle(buffer_size=100_000, seed=seed)\n",
    "    ds = ds.batch(batch_size)\n",
    "    return ds.map(lambda window : (window[:, :-1], window[:, 1:])).prefetch(1)"
   ]
  },
  {
   "cell_type": "code",
   "execution_count": 15,
   "id": "3656bf99-f489-4ee2-bb44-3aa0a538072f",
   "metadata": {},
   "outputs": [],
   "source": [
    "length = 100\n",
    "tf.random.set_seed(42)\n",
    "train_set = to_dataset(encoded[:1_000_000], length=length, shuffle=True, seed=42)\n",
    "valid_set = to_dataset(encoded[1_000_000:1_600_000], length=length)\n",
    "test_set = to_dataset(encoded[1_600_000:], length=length)"
   ]
  },
  {
   "cell_type": "code",
   "execution_count": 16,
   "id": "8bd2f054-af60-46d8-a270-8c0117fe1c0d",
   "metadata": {},
   "outputs": [
    {
     "name": "stdout",
     "output_type": "stream",
     "text": [
      "Epoch 1/10\n",
      "31247/31247 [==============================] - 530s 16ms/step - loss: 1.3630 - accuracy: 0.5736 - val_loss: 1.6810 - val_accuracy: 0.5120\n",
      "Epoch 2/10\n",
      "31247/31247 [==============================] - 544s 17ms/step - loss: 1.2699 - accuracy: 0.5970 - val_loss: 1.6657 - val_accuracy: 0.5181\n",
      "Epoch 3/10\n",
      "31247/31247 [==============================] - 501s 16ms/step - loss: 1.2548 - accuracy: 0.6005 - val_loss: 1.6618 - val_accuracy: 0.5194\n",
      "Epoch 4/10\n",
      "31247/31247 [==============================] - 517s 16ms/step - loss: 1.2471 - accuracy: 0.6022 - val_loss: 1.6802 - val_accuracy: 0.5188\n",
      "Epoch 5/10\n",
      "31247/31247 [==============================] - 546s 17ms/step - loss: 1.2417 - accuracy: 0.6035 - val_loss: 1.6593 - val_accuracy: 0.5178\n",
      "Epoch 6/10\n",
      "31247/31247 [==============================] - 520s 16ms/step - loss: 1.2376 - accuracy: 0.6046 - val_loss: 1.6864 - val_accuracy: 0.5188\n",
      "Epoch 7/10\n",
      "31247/31247 [==============================] - 529s 16ms/step - loss: 1.2350 - accuracy: 0.6051 - val_loss: 1.6603 - val_accuracy: 0.5223\n",
      "Epoch 8/10\n",
      "31247/31247 [==============================] - 509s 16ms/step - loss: 1.2325 - accuracy: 0.6057 - val_loss: 1.6625 - val_accuracy: 0.5204\n",
      "Epoch 9/10\n",
      "31247/31247 [==============================] - 555s 17ms/step - loss: 1.2307 - accuracy: 0.6063 - val_loss: 1.6690 - val_accuracy: 0.5233\n",
      "Epoch 10/10\n",
      "31247/31247 [==============================] - 514s 16ms/step - loss: 1.2291 - accuracy: 0.6064 - val_loss: 1.6611 - val_accuracy: 0.5235\n"
     ]
    }
   ],
   "source": [
    "model = tf.keras.Sequential([\n",
    "    tf.keras.layers.Embedding(input_dim=n_tokens, output_dim=16),\n",
    "    tf.keras.layers.GRU(128, return_sequences=True),\n",
    "    tf.keras.layers.Dense(n_tokens, activation='softmax')\n",
    "])\n",
    "model.compile(loss='sparse_categorical_crossentropy', optimizer='nadam',\n",
    "              metrics=['accuracy'])\n",
    "model_ckpt = tf.keras.callbacks.ModelCheckpoint(\n",
    "    'my_shakespeare_model.keras', monitor='val_accuracy', save_best_only=True)\n",
    "history = model.fit(train_set, validation_data=valid_set, epochs=10,\n",
    "                    callbacks=[model_ckpt])"
   ]
  },
  {
   "cell_type": "code",
   "execution_count": 17,
   "id": "154e46fa-8064-422d-ad70-66b271b7d7c4",
   "metadata": {},
   "outputs": [],
   "source": [
    "shakespeare_model = tf.keras.Sequential([\n",
    "    text_vec_layer,\n",
    "    tf.keras.layers.Lambda(lambda X: X - 2), # <PAD>와 <UNK' 토큰 제외\n",
    "    model\n",
    "])"
   ]
  },
  {
   "cell_type": "code",
   "execution_count": 29,
   "id": "bee21ee1-818b-4d98-aab3-c8e9db5637cc",
   "metadata": {},
   "outputs": [
    {
     "name": "stdout",
     "output_type": "stream",
     "text": [
      "Extracted to: C:\\Users\\niceq\\Documents\\DataScience\\Hands_ML\\Data\\shakespeare_model\n",
      "Extracted files:\n",
      "C:\\Users\\niceq\\Documents\\DataScience\\Hands_ML\\Data\\shakespeare_model\\shakespeare_model\n",
      "C:\\Users\\niceq\\Documents\\DataScience\\Hands_ML\\Data\\shakespeare_model\\shakespeare_model\\assets\n",
      "C:\\Users\\niceq\\Documents\\DataScience\\Hands_ML\\Data\\shakespeare_model\\shakespeare_model\\keras_metadata.pb\n",
      "C:\\Users\\niceq\\Documents\\DataScience\\Hands_ML\\Data\\shakespeare_model\\shakespeare_model\\saved_model.pb\n",
      "C:\\Users\\niceq\\Documents\\DataScience\\Hands_ML\\Data\\shakespeare_model\\shakespeare_model\\variables\n",
      "C:\\Users\\niceq\\Documents\\DataScience\\Hands_ML\\Data\\shakespeare_model\\shakespeare_model\\variables\\variables.data-00000-of-00001\n",
      "C:\\Users\\niceq\\Documents\\DataScience\\Hands_ML\\Data\\shakespeare_model\\shakespeare_model\\variables\\variables.index\n"
     ]
    }
   ],
   "source": [
    "# 사전 훈련된 모델 다운로드 (GPU 사용 시스킵)\n",
    "import tarfile\n",
    "from pathlib import Path\n",
    "\n",
    "# 파일 경로 설정\n",
    "tgz_file_path = Path(r\"C:\\Users\\niceq\\Documents\\DataScience\\Hands_ML\\Data\\15. shakespeare_model.tgz\")\n",
    "\n",
    "# 압축 해제 디렉토리 설정\n",
    "extract_dir = tgz_file_path.parent / \"shakespeare_model\"\n",
    "\n",
    "# .tgz 파일 압축 해제\n",
    "with tarfile.open(tgz_file_path, \"r:gz\") as tar:\n",
    "    tar.extractall(path=extract_dir)\n",
    "    print(f\"Extracted to: {extract_dir}\")\n",
    "\n",
    "# 압축 해제된 파일 목록 확인\n",
    "extracted_files = list(extract_dir.glob(\"**/*\"))\n",
    "print(\"Extracted files:\")\n",
    "for file in extracted_files:\n",
    "    print(file)"
   ]
  },
  {
   "cell_type": "code",
   "execution_count": 33,
   "id": "d9beec6c-dd12-4c71-96ba-ce4083249d87",
   "metadata": {},
   "outputs": [
    {
     "ename": "OSError",
     "evalue": "SavedModel file does not exist at: C:\\Users\\niceq\\Documents\\DataScience\\Hands_ML\\Data\\shakespeare_model\\shakespeare_model\\saved_model",
     "output_type": "error",
     "traceback": [
      "\u001b[1;31m---------------------------------------------------------------------------\u001b[0m",
      "\u001b[1;31mOSError\u001b[0m                                   Traceback (most recent call last)",
      "Cell \u001b[1;32mIn[33], line 8\u001b[0m\n\u001b[0;32m      6\u001b[0m \u001b[38;5;66;03m# 올바른 경로에 모델 파일이 있는지 확인\u001b[39;00m\n\u001b[0;32m      7\u001b[0m \u001b[38;5;28;01mif\u001b[39;00m \u001b[38;5;129;01mnot\u001b[39;00m (saved_model_path \u001b[38;5;241m/\u001b[39m \u001b[38;5;124m\"\u001b[39m\u001b[38;5;124msaved_model.pb\u001b[39m\u001b[38;5;124m\"\u001b[39m)\u001b[38;5;241m.\u001b[39mexists():\n\u001b[1;32m----> 8\u001b[0m     \u001b[38;5;28;01mraise\u001b[39;00m \u001b[38;5;167;01mOSError\u001b[39;00m(\u001b[38;5;124mf\u001b[39m\u001b[38;5;124m\"\u001b[39m\u001b[38;5;124mSavedModel file does not exist at: \u001b[39m\u001b[38;5;132;01m{\u001b[39;00msaved_model_path\u001b[38;5;132;01m}\u001b[39;00m\u001b[38;5;124m\"\u001b[39m)\n\u001b[0;32m     10\u001b[0m \u001b[38;5;66;03m# TensorFlow SavedModel을 TFSMLayer로 불러오기\u001b[39;00m\n\u001b[0;32m     11\u001b[0m tfsmlayer \u001b[38;5;241m=\u001b[39m tf\u001b[38;5;241m.\u001b[39mkeras\u001b[38;5;241m.\u001b[39mlayers\u001b[38;5;241m.\u001b[39mTFSMLayer(\u001b[38;5;28mstr\u001b[39m(saved_model_path), call_endpoint\u001b[38;5;241m=\u001b[39m\u001b[38;5;124m'\u001b[39m\u001b[38;5;124mserving_default\u001b[39m\u001b[38;5;124m'\u001b[39m)\n",
      "\u001b[1;31mOSError\u001b[0m: SavedModel file does not exist at: C:\\Users\\niceq\\Documents\\DataScience\\Hands_ML\\Data\\shakespeare_model\\shakespeare_model\\saved_model"
     ]
    }
   ],
   "source": [
    "# GPU 사용 시 스킵\n",
    "from keras.layers import Input\n",
    "\n",
    "# 정확한 압축 해제된 SavedModel 경로를 설정\n",
    "saved_model_path = extract_dir / \"shakespeare_model\" / \"saved_model\"\n",
    "\n",
    "# 올바른 경로에 모델 파일이 있는지 확인\n",
    "if not (saved_model_path / \"saved_model.pb\").exists():\n",
    "    raise OSError(f\"SavedModel file does not exist at: {saved_model_path}\")\n",
    "\n",
    "# TensorFlow SavedModel을 TFSMLayer로 불러오기\n",
    "tfsmlayer = tf.keras.layers.TFSMLayer(str(saved_model_path), call_endpoint='serving_default')\n",
    "\n",
    "# Keras 모델로 감싸기\n",
    "inputs = Input(shape=(None,), dtype=tf.int32)  # 입력의 형태를 실제에 맞게 수정 필요\n",
    "outputs = tfsmlayer(inputs)\n",
    "wrapped_model = tf.keras.Model(inputs, outputs)\n",
    "\n",
    "# 모델 요약 출력\n",
    "wrapped_model.summary()"
   ]
  },
  {
   "cell_type": "code",
   "execution_count": 18,
   "id": "bb0169e1-7d2b-406c-932e-8837cc3255ea",
   "metadata": {},
   "outputs": [
    {
     "data": {
      "text/plain": [
       "'e'"
      ]
     },
     "execution_count": 18,
     "metadata": {},
     "output_type": "execute_result"
    }
   ],
   "source": [
    "y_proba = shakespeare_model.predict(['To be or not to b'])[0, -1]\n",
    "y_pred = tf.argmax(y_proba)\n",
    "text_vec_layer.get_vocabulary()[y_pred+2]"
   ]
  },
  {
   "cell_type": "code",
   "execution_count": 19,
   "id": "61fbd6c6",
   "metadata": {},
   "outputs": [
    {
     "data": {
      "text/plain": [
       "<tf.Tensor: shape=(1, 8), dtype=int64, numpy=array([[0, 0, 1, 1, 1, 0, 0, 0]], dtype=int64)>"
      ]
     },
     "execution_count": 19,
     "metadata": {},
     "output_type": "execute_result"
    }
   ],
   "source": [
    "log_probas = tf.math.log([[0.5, 0.4, 0.1]]) # 확률: 50%, 40%, 10%\n",
    "tf.random.set_seed(42)\n",
    "tf.random.categorical(log_probas, num_samples=8) # 8개의 샘플 출력"
   ]
  },
  {
   "cell_type": "code",
   "execution_count": 27,
   "id": "493a0fe4",
   "metadata": {},
   "outputs": [],
   "source": [
    "def next_char(text, temperature=1):\n",
    "    y_proba = shakespeare_model.predict([text])[0, -1:]\n",
    "    rescaled_logits = tf.math.log(y_proba) / temperature\n",
    "    char_id = tf.random.categorical(rescaled_logits, num_samples=1)[0, 0]\n",
    "    return text_vec_layer.get_vocabulary()[char_id + 2]"
   ]
  },
  {
   "cell_type": "code",
   "execution_count": 24,
   "id": "d38fd61f",
   "metadata": {},
   "outputs": [],
   "source": [
    "def extend_text(text, n_chars=50, temperature=1):\n",
    "    for _ in range(n_chars):\n",
    "        text += next_char(text, temperature)\n",
    "    return text"
   ]
  },
  {
   "cell_type": "code",
   "execution_count": 32,
   "id": "4d21a72c",
   "metadata": {},
   "outputs": [
    {
     "name": "stdout",
     "output_type": "stream",
     "text": [
      "온도:0.01: To be or not to be so\n",
      "\n",
      "petruchio\n",
      "i will not be made a little shall b\n",
      "온도:1: To be or not to be you prodowial it for the hour\n",
      "\n",
      "tranio\n",
      "asidd her l\n",
      "온도:100: To be or not to bekeqipmeq lq\n",
      "xre3ibmvc vrfllpzqa3btdy\n",
      "ixurulzlyfeeu\n"
     ]
    }
   ],
   "source": [
    "tf.random.set_seed(42)\n",
    "print('온도:0.01:', extend_text(\"To be or not to be\", temperature=0.01))\n",
    "print('온도:1:', extend_text(\"To be or not to be\", temperature=1))\n",
    "print('온도:100:', extend_text(\"To be or not to be\", temperature=100))"
   ]
  },
  {
   "cell_type": "code",
   "execution_count": 44,
   "id": "8274ce90",
   "metadata": {},
   "outputs": [],
   "source": [
    "def to_dataset_for_stateful_rnn(sequence, length):\n",
    "    ds = tf.data.Dataset.from_tensor_slices(sequence)\n",
    "    ds = ds.window(length + 1, shift=length, drop_remainder=True)\n",
    "    ds = ds.flat_map(lambda window: window.batch(length + 1)).batch(1)\n",
    "    return ds.map(lambda window: (window[:, :-1], window[:, 1:])).prefetch(1)\n",
    "\n",
    "stateful_train_set = to_dataset_for_stateful_rnn(encoded[:1_000_000], length)\n",
    "stateful_valid_set = to_dataset_for_stateful_rnn(encoded[1_000_000:1_060_000],length)\n",
    "stateful_test_set = to_dataset_for_stateful_rnn(encoded[1_060_000:], length)"
   ]
  },
  {
   "cell_type": "code",
   "execution_count": 38,
   "id": "1e14b8c1",
   "metadata": {},
   "outputs": [],
   "source": [
    "tf.random.set_seed(42)\n",
    "Layers = tf.keras.layers\n",
    "\n",
    "model = tf.keras.Sequential([\n",
    "    Layers.Embedding(input_dim=n_tokens, output_dim=16,\n",
    "                     batch_input_shape=[1, None]),\n",
    "    Layers.GRU(128, return_sequences=True, stateful=True),\n",
    "    Layers.Dense(n_tokens, activation='softmax')\n",
    "])"
   ]
  },
  {
   "cell_type": "code",
   "execution_count": 39,
   "id": "b9c9d198",
   "metadata": {},
   "outputs": [],
   "source": [
    "class ResetStatesCallback(tf.keras.callbacks.Callback):\n",
    "    def on_epoch_begin(self, epoch, logs):\n",
    "        self.model.reset_states()"
   ]
  },
  {
   "cell_type": "code",
   "execution_count": 40,
   "id": "b704fed0",
   "metadata": {},
   "outputs": [],
   "source": [
    "model_ckpt = tf.keras.callbacks.ModelCheckpoint(\n",
    "    \"my_stateful_shakespeare_model\",\n",
    "    monitor=\"val_accuracy\",\n",
    "    save_best_only=True)"
   ]
  },
  {
   "cell_type": "code",
   "execution_count": 45,
   "id": "88e2d997",
   "metadata": {
    "scrolled": true
   },
   "outputs": [
    {
     "name": "stdout",
     "output_type": "stream",
     "text": [
      "Epoch 1/10\n",
      "9999/9999 [==============================] - 154s 15ms/step - loss: 1.8283 - accuracy: 0.4484 - val_loss: 1.7134 - val_accuracy: 0.4737\n"
     ]
    },
    {
     "name": "stderr",
     "output_type": "stream",
     "text": [
      "WARNING:absl:Found untraced functions such as gru_cell_1_layer_call_and_return_conditional_losses, gru_cell_1_layer_call_fn, gru_cell_1_layer_call_fn, gru_cell_1_layer_call_and_return_conditional_losses, gru_cell_1_layer_call_and_return_conditional_losses while saving (showing 5 of 5). These functions will not be directly callable after loading.\n"
     ]
    },
    {
     "name": "stdout",
     "output_type": "stream",
     "text": [
      "INFO:tensorflow:Assets written to: my_stateful_shakespeare_model\\assets\n"
     ]
    },
    {
     "name": "stderr",
     "output_type": "stream",
     "text": [
      "INFO:tensorflow:Assets written to: my_stateful_shakespeare_model\\assets\n"
     ]
    },
    {
     "name": "stdout",
     "output_type": "stream",
     "text": [
      "Epoch 2/10\n",
      "9999/9999 [==============================] - 153s 15ms/step - loss: 1.5368 - accuracy: 0.5267 - val_loss: 1.6399 - val_accuracy: 0.4953\n"
     ]
    },
    {
     "name": "stderr",
     "output_type": "stream",
     "text": [
      "WARNING:absl:Found untraced functions such as gru_cell_1_layer_call_and_return_conditional_losses, gru_cell_1_layer_call_fn, gru_cell_1_layer_call_fn, gru_cell_1_layer_call_and_return_conditional_losses, gru_cell_1_layer_call_and_return_conditional_losses while saving (showing 5 of 5). These functions will not be directly callable after loading.\n"
     ]
    },
    {
     "name": "stdout",
     "output_type": "stream",
     "text": [
      "INFO:tensorflow:Assets written to: my_stateful_shakespeare_model\\assets\n"
     ]
    },
    {
     "name": "stderr",
     "output_type": "stream",
     "text": [
      "INFO:tensorflow:Assets written to: my_stateful_shakespeare_model\\assets\n"
     ]
    },
    {
     "name": "stdout",
     "output_type": "stream",
     "text": [
      "Epoch 3/10\n",
      "9999/9999 [==============================] - 155s 15ms/step - loss: 1.4598 - accuracy: 0.5482 - val_loss: 1.6115 - val_accuracy: 0.5096\n"
     ]
    },
    {
     "name": "stderr",
     "output_type": "stream",
     "text": [
      "WARNING:absl:Found untraced functions such as gru_cell_1_layer_call_and_return_conditional_losses, gru_cell_1_layer_call_fn, gru_cell_1_layer_call_fn, gru_cell_1_layer_call_and_return_conditional_losses, gru_cell_1_layer_call_and_return_conditional_losses while saving (showing 5 of 5). These functions will not be directly callable after loading.\n"
     ]
    },
    {
     "name": "stdout",
     "output_type": "stream",
     "text": [
      "INFO:tensorflow:Assets written to: my_stateful_shakespeare_model\\assets\n"
     ]
    },
    {
     "name": "stderr",
     "output_type": "stream",
     "text": [
      "INFO:tensorflow:Assets written to: my_stateful_shakespeare_model\\assets\n"
     ]
    },
    {
     "name": "stdout",
     "output_type": "stream",
     "text": [
      "Epoch 4/10\n",
      "9999/9999 [==============================] - 150s 15ms/step - loss: 1.4215 - accuracy: 0.5589 - val_loss: 1.5948 - val_accuracy: 0.5185\n"
     ]
    },
    {
     "name": "stderr",
     "output_type": "stream",
     "text": [
      "WARNING:absl:Found untraced functions such as gru_cell_1_layer_call_and_return_conditional_losses, gru_cell_1_layer_call_fn, gru_cell_1_layer_call_fn, gru_cell_1_layer_call_and_return_conditional_losses, gru_cell_1_layer_call_and_return_conditional_losses while saving (showing 5 of 5). These functions will not be directly callable after loading.\n"
     ]
    },
    {
     "name": "stdout",
     "output_type": "stream",
     "text": [
      "INFO:tensorflow:Assets written to: my_stateful_shakespeare_model\\assets\n"
     ]
    },
    {
     "name": "stderr",
     "output_type": "stream",
     "text": [
      "INFO:tensorflow:Assets written to: my_stateful_shakespeare_model\\assets\n"
     ]
    },
    {
     "name": "stdout",
     "output_type": "stream",
     "text": [
      "Epoch 5/10\n",
      "9999/9999 [==============================] - 158s 16ms/step - loss: 1.3983 - accuracy: 0.5649 - val_loss: 1.5864 - val_accuracy: 0.5217\n"
     ]
    },
    {
     "name": "stderr",
     "output_type": "stream",
     "text": [
      "WARNING:absl:Found untraced functions such as gru_cell_1_layer_call_and_return_conditional_losses, gru_cell_1_layer_call_fn, gru_cell_1_layer_call_fn, gru_cell_1_layer_call_and_return_conditional_losses, gru_cell_1_layer_call_and_return_conditional_losses while saving (showing 5 of 5). These functions will not be directly callable after loading.\n"
     ]
    },
    {
     "name": "stdout",
     "output_type": "stream",
     "text": [
      "INFO:tensorflow:Assets written to: my_stateful_shakespeare_model\\assets\n"
     ]
    },
    {
     "name": "stderr",
     "output_type": "stream",
     "text": [
      "INFO:tensorflow:Assets written to: my_stateful_shakespeare_model\\assets\n"
     ]
    },
    {
     "name": "stdout",
     "output_type": "stream",
     "text": [
      "Epoch 6/10\n",
      "9999/9999 [==============================] - 170s 17ms/step - loss: 1.3827 - accuracy: 0.5688 - val_loss: 1.5878 - val_accuracy: 0.5221\n"
     ]
    },
    {
     "name": "stderr",
     "output_type": "stream",
     "text": [
      "WARNING:absl:Found untraced functions such as gru_cell_1_layer_call_and_return_conditional_losses, gru_cell_1_layer_call_fn, gru_cell_1_layer_call_fn, gru_cell_1_layer_call_and_return_conditional_losses, gru_cell_1_layer_call_and_return_conditional_losses while saving (showing 5 of 5). These functions will not be directly callable after loading.\n"
     ]
    },
    {
     "name": "stdout",
     "output_type": "stream",
     "text": [
      "INFO:tensorflow:Assets written to: my_stateful_shakespeare_model\\assets\n"
     ]
    },
    {
     "name": "stderr",
     "output_type": "stream",
     "text": [
      "INFO:tensorflow:Assets written to: my_stateful_shakespeare_model\\assets\n"
     ]
    },
    {
     "name": "stdout",
     "output_type": "stream",
     "text": [
      "Epoch 7/10\n",
      "9999/9999 [==============================] - 178s 18ms/step - loss: 1.3712 - accuracy: 0.5717 - val_loss: 1.5832 - val_accuracy: 0.5235\n"
     ]
    },
    {
     "name": "stderr",
     "output_type": "stream",
     "text": [
      "WARNING:absl:Found untraced functions such as gru_cell_1_layer_call_and_return_conditional_losses, gru_cell_1_layer_call_fn, gru_cell_1_layer_call_fn, gru_cell_1_layer_call_and_return_conditional_losses, gru_cell_1_layer_call_and_return_conditional_losses while saving (showing 5 of 5). These functions will not be directly callable after loading.\n"
     ]
    },
    {
     "name": "stdout",
     "output_type": "stream",
     "text": [
      "INFO:tensorflow:Assets written to: my_stateful_shakespeare_model\\assets\n"
     ]
    },
    {
     "name": "stderr",
     "output_type": "stream",
     "text": [
      "INFO:tensorflow:Assets written to: my_stateful_shakespeare_model\\assets\n"
     ]
    },
    {
     "name": "stdout",
     "output_type": "stream",
     "text": [
      "Epoch 8/10\n",
      "9999/9999 [==============================] - 168s 17ms/step - loss: 1.3630 - accuracy: 0.5739 - val_loss: 1.5832 - val_accuracy: 0.5260\n"
     ]
    },
    {
     "name": "stderr",
     "output_type": "stream",
     "text": [
      "WARNING:absl:Found untraced functions such as gru_cell_1_layer_call_and_return_conditional_losses, gru_cell_1_layer_call_fn, gru_cell_1_layer_call_fn, gru_cell_1_layer_call_and_return_conditional_losses, gru_cell_1_layer_call_and_return_conditional_losses while saving (showing 5 of 5). These functions will not be directly callable after loading.\n"
     ]
    },
    {
     "name": "stdout",
     "output_type": "stream",
     "text": [
      "INFO:tensorflow:Assets written to: my_stateful_shakespeare_model\\assets\n"
     ]
    },
    {
     "name": "stderr",
     "output_type": "stream",
     "text": [
      "INFO:tensorflow:Assets written to: my_stateful_shakespeare_model\\assets\n"
     ]
    },
    {
     "name": "stdout",
     "output_type": "stream",
     "text": [
      "Epoch 9/10\n",
      "9999/9999 [==============================] - 169s 17ms/step - loss: 1.3564 - accuracy: 0.5757 - val_loss: 1.5773 - val_accuracy: 0.5235\n",
      "Epoch 10/10\n",
      "9999/9999 [==============================] - 160s 16ms/step - loss: 1.3518 - accuracy: 0.5769 - val_loss: 1.5799 - val_accuracy: 0.5233\n"
     ]
    }
   ],
   "source": [
    "model.compile(loss=\"sparse_categorical_crossentropy\", optimizer=\"nadam\",\n",
    "              metrics=[\"accuracy\"])\n",
    "history = model.fit(stateful_train_set, validation_data=stateful_valid_set,\n",
    "                    epochs=10, callbacks=[ResetStatesCallback(), model_ckpt])"
   ]
  },
  {
   "cell_type": "code",
   "execution_count": 48,
   "id": "06365875",
   "metadata": {},
   "outputs": [
    {
     "name": "stdout",
     "output_type": "stream",
     "text": [
      "Collecting tensorflow-datasets\n",
      "  Downloading tensorflow_datasets-4.8.2-py3-none-any.whl (5.3 MB)\n",
      "     ---------------------------------------- 5.3/5.3 MB 18.0 MB/s eta 0:00:00\n",
      "Requirement already satisfied: protobuf>=3.12.2 in c:\\users\\niceq\\anaconda3\\envs\\jun\\lib\\site-packages (from tensorflow-datasets) (3.20.3)\n",
      "Collecting tqdm\n",
      "  Downloading tqdm-4.67.1-py3-none-any.whl (78 kB)\n",
      "     ---------------------------------------- 78.5/78.5 kB 4.3 MB/s eta 0:00:00\n",
      "Requirement already satisfied: absl-py in c:\\users\\niceq\\anaconda3\\envs\\jun\\lib\\site-packages (from tensorflow-datasets) (0.15.0)\n",
      "Collecting dm-tree\n",
      "  Downloading dm_tree-0.1.8-cp37-cp37m-win_amd64.whl (102 kB)\n",
      "     ---------------------------------------- 102.1/102.1 kB ? eta 0:00:00\n",
      "Requirement already satisfied: requests>=2.19.0 in c:\\users\\niceq\\anaconda3\\envs\\jun\\lib\\site-packages (from tensorflow-datasets) (2.31.0)\n",
      "Requirement already satisfied: toml in c:\\users\\niceq\\anaconda3\\envs\\jun\\lib\\site-packages (from tensorflow-datasets) (0.10.2)\n",
      "Requirement already satisfied: typing-extensions in c:\\users\\niceq\\anaconda3\\envs\\jun\\lib\\site-packages (from tensorflow-datasets) (4.7.1)\n",
      "Collecting etils[enp,epath]>=0.9.0\n",
      "  Downloading etils-0.9.0-py3-none-any.whl (140 kB)\n",
      "     -------------------------------------- 140.1/140.1 kB 8.7 MB/s eta 0:00:00\n",
      "Requirement already satisfied: numpy in c:\\users\\niceq\\anaconda3\\envs\\jun\\lib\\site-packages (from tensorflow-datasets) (1.21.5)\n",
      "Collecting promise\n",
      "  Downloading promise-2.3.tar.gz (19 kB)\n",
      "  Preparing metadata (setup.py): started\n",
      "  Preparing metadata (setup.py): finished with status 'done'\n",
      "Requirement already satisfied: importlib-resources in c:\\users\\niceq\\anaconda3\\envs\\jun\\lib\\site-packages (from tensorflow-datasets) (5.12.0)\n",
      "Requirement already satisfied: termcolor in c:\\users\\niceq\\anaconda3\\envs\\jun\\lib\\site-packages (from tensorflow-datasets) (1.1.0)\n",
      "Requirement already satisfied: psutil in c:\\users\\niceq\\anaconda3\\envs\\jun\\lib\\site-packages (from tensorflow-datasets) (6.1.0)\n",
      "Collecting tensorflow-metadata\n",
      "  Downloading tensorflow_metadata-1.12.0-py3-none-any.whl (52 kB)\n",
      "     ---------------------------------------- 52.3/52.3 kB 2.8 MB/s eta 0:00:00\n",
      "Collecting dill\n",
      "  Downloading dill-0.3.7-py3-none-any.whl (115 kB)\n",
      "     -------------------------------------- 115.3/115.3 kB 6.6 MB/s eta 0:00:00\n",
      "Collecting click\n",
      "  Downloading click-8.1.7-py3-none-any.whl (97 kB)\n",
      "     ---------------------------------------- 97.9/97.9 kB 5.8 MB/s eta 0:00:00\n",
      "Requirement already satisfied: wrapt in c:\\users\\niceq\\anaconda3\\envs\\jun\\lib\\site-packages (from tensorflow-datasets) (1.12.1)\n",
      "Requirement already satisfied: zipp in c:\\users\\niceq\\anaconda3\\envs\\jun\\lib\\site-packages (from etils[enp,epath]>=0.9.0->tensorflow-datasets) (3.15.0)\n",
      "Requirement already satisfied: certifi>=2017.4.17 in c:\\users\\niceq\\anaconda3\\envs\\jun\\lib\\site-packages (from requests>=2.19.0->tensorflow-datasets) (2024.8.30)\n",
      "Requirement already satisfied: urllib3<3,>=1.21.1 in c:\\users\\niceq\\anaconda3\\envs\\jun\\lib\\site-packages (from requests>=2.19.0->tensorflow-datasets) (2.0.7)\n",
      "Requirement already satisfied: charset-normalizer<4,>=2 in c:\\users\\niceq\\anaconda3\\envs\\jun\\lib\\site-packages (from requests>=2.19.0->tensorflow-datasets) (3.4.0)\n",
      "Requirement already satisfied: idna<4,>=2.5 in c:\\users\\niceq\\anaconda3\\envs\\jun\\lib\\site-packages (from requests>=2.19.0->tensorflow-datasets) (3.10)\n",
      "Requirement already satisfied: six in c:\\users\\niceq\\anaconda3\\envs\\jun\\lib\\site-packages (from absl-py->tensorflow-datasets) (1.16.0)\n",
      "Requirement already satisfied: colorama in c:\\users\\niceq\\anaconda3\\envs\\jun\\lib\\site-packages (from click->tensorflow-datasets) (0.4.6)\n",
      "Requirement already satisfied: importlib-metadata in c:\\users\\niceq\\anaconda3\\envs\\jun\\lib\\site-packages (from click->tensorflow-datasets) (6.7.0)\n",
      "Collecting googleapis-common-protos<2,>=1.52.0\n",
      "  Downloading googleapis_common_protos-1.66.0-py2.py3-none-any.whl (221 kB)\n",
      "     ------------------------------------- 221.7/221.7 kB 13.2 MB/s eta 0:00:00\n",
      "Building wheels for collected packages: promise\n",
      "  Building wheel for promise (setup.py): started\n",
      "  Building wheel for promise (setup.py): finished with status 'done'\n",
      "  Created wheel for promise: filename=promise-2.3-py3-none-any.whl size=21548 sha256=4f17e85b9d30f9c448f552a0d38fcc3875b907aa06d7850dda32bb4dc52a9066\n",
      "  Stored in directory: c:\\users\\niceq\\appdata\\local\\pip\\cache\\wheels\\9d\\ad\\15\\e6d5c43a0f01b88ee5883bd249a18e09d72821e43b1c3e8187\n",
      "Successfully built promise\n",
      "Installing collected packages: dm-tree, tqdm, promise, googleapis-common-protos, etils, dill, tensorflow-metadata, click, tensorflow-datasets\n",
      "Successfully installed click-8.1.7 dill-0.3.7 dm-tree-0.1.8 etils-0.9.0 googleapis-common-protos-1.66.0 promise-2.3 tensorflow-datasets-4.8.2 tensorflow-metadata-1.12.0 tqdm-4.67.1\n",
      "Note: you may need to restart the kernel to use updated packages.\n"
     ]
    }
   ],
   "source": [
    "pip install tensorflow-datasets"
   ]
  },
  {
   "cell_type": "code",
   "execution_count": 49,
   "id": "f5cf0b89",
   "metadata": {},
   "outputs": [
    {
     "name": "stdout",
     "output_type": "stream",
     "text": [
      "\u001b[1mDownloading and preparing dataset Unknown size (download: Unknown size, generated: Unknown size, total: Unknown size) to C:\\Users\\niceq\\tensorflow_datasets\\imdb_reviews\\plain_text\\1.0.0...\u001b[0m\n"
     ]
    },
    {
     "data": {
      "application/vnd.jupyter.widget-view+json": {
       "model_id": "d53292a37c4245a4a063dc82dbe44188",
       "version_major": 2,
       "version_minor": 0
      },
      "text/plain": [
       "Dl Completed...: 0 url [00:00, ? url/s]"
      ]
     },
     "metadata": {},
     "output_type": "display_data"
    },
    {
     "data": {
      "application/vnd.jupyter.widget-view+json": {
       "model_id": "1d3c7622927244d9a678efe2cc3b2727",
       "version_major": 2,
       "version_minor": 0
      },
      "text/plain": [
       "Dl Size...: 0 MiB [00:00, ? MiB/s]"
      ]
     },
     "metadata": {},
     "output_type": "display_data"
    },
    {
     "data": {
      "application/vnd.jupyter.widget-view+json": {
       "model_id": "",
       "version_major": 2,
       "version_minor": 0
      },
      "text/plain": [
       "Generating splits...:   0%|          | 0/3 [00:00<?, ? splits/s]"
      ]
     },
     "metadata": {},
     "output_type": "display_data"
    },
    {
     "data": {
      "application/vnd.jupyter.widget-view+json": {
       "model_id": "",
       "version_major": 2,
       "version_minor": 0
      },
      "text/plain": [
       "Generating train examples...: 0 examples [00:00, ? examples/s]"
      ]
     },
     "metadata": {},
     "output_type": "display_data"
    },
    {
     "data": {
      "application/vnd.jupyter.widget-view+json": {
       "model_id": "",
       "version_major": 2,
       "version_minor": 0
      },
      "text/plain": [
       "Shuffling C:\\Users\\niceq\\tensorflow_datasets\\imdb_reviews\\plain_text\\1.0.0.incompleteGUMMN6\\imdb_reviews-train…"
      ]
     },
     "metadata": {},
     "output_type": "display_data"
    },
    {
     "data": {
      "application/vnd.jupyter.widget-view+json": {
       "model_id": "",
       "version_major": 2,
       "version_minor": 0
      },
      "text/plain": [
       "Generating test examples...: 0 examples [00:00, ? examples/s]"
      ]
     },
     "metadata": {},
     "output_type": "display_data"
    },
    {
     "data": {
      "application/vnd.jupyter.widget-view+json": {
       "model_id": "",
       "version_major": 2,
       "version_minor": 0
      },
      "text/plain": [
       "Shuffling C:\\Users\\niceq\\tensorflow_datasets\\imdb_reviews\\plain_text\\1.0.0.incompleteGUMMN6\\imdb_reviews-test.…"
      ]
     },
     "metadata": {},
     "output_type": "display_data"
    },
    {
     "data": {
      "application/vnd.jupyter.widget-view+json": {
       "model_id": "",
       "version_major": 2,
       "version_minor": 0
      },
      "text/plain": [
       "Generating unsupervised examples...: 0 examples [00:00, ? examples/s]"
      ]
     },
     "metadata": {},
     "output_type": "display_data"
    },
    {
     "data": {
      "application/vnd.jupyter.widget-view+json": {
       "model_id": "",
       "version_major": 2,
       "version_minor": 0
      },
      "text/plain": [
       "Shuffling C:\\Users\\niceq\\tensorflow_datasets\\imdb_reviews\\plain_text\\1.0.0.incompleteGUMMN6\\imdb_reviews-unsup…"
      ]
     },
     "metadata": {},
     "output_type": "display_data"
    },
    {
     "name": "stdout",
     "output_type": "stream",
     "text": [
      "\u001b[1mDataset imdb_reviews downloaded and prepared to C:\\Users\\niceq\\tensorflow_datasets\\imdb_reviews\\plain_text\\1.0.0. Subsequent calls will reuse this data.\u001b[0m\n"
     ]
    }
   ],
   "source": [
    "import tensorflow_datasets as tfds\n",
    "\n",
    "raw_train_set, raw_valid_set, raw_test_set = tfds.load(\n",
    "    name=\"imdb_reviews\",\n",
    "    split=[\"train[:90%]\", \"train[90%:]\", \"test\"],\n",
    "    as_supervised=True\n",
    ")\n",
    "tf.random.set_seed(42)\n",
    "train_set = raw_train_set.shuffle(5000, seed=42).batch(32).prefetch(1)\n",
    "valid_set = raw_valid_set.batch(32).prefetch(1)\n",
    "test_set = raw_test_set.batch(32).prefetch(1)"
   ]
  },
  {
   "cell_type": "code",
   "execution_count": 50,
   "id": "69021433",
   "metadata": {},
   "outputs": [
    {
     "name": "stdout",
     "output_type": "stream",
     "text": [
      "This was an absolutely terrible movie. Don't be lured in by Christopher Walken or Michael Ironside. Both are great actors, but this must simply be their worst role in history. Even their great acting could not redeem this movie's ridiculous storyline. This movie is an early nineties US propaganda piece. The most pathetic scenes were those when the Columbian rebels were making their cases for revolutions. Maria Conchita Alonso appeared phony, and her pseudo-love affair with Walken was nothing but a pathetic emotional plug in a movie that was devoid of any real meaning. I am disappointed that there are movies like this, ruining actor's like Christopher Walken's good name. I could barely sit through it.\n",
      "레이블: 0\n",
      "I have been known to fall asleep during films, but this is usually due to a combination of things including, really tired, being warm and comfortable on the sette and having just eaten a lot. However on this occasion I fell asleep because the film was rubbish. The plot development was constant. Constantly slow and boring. Things seemed to happen, but with no explanation of what was causing them or why. I admit, I may have missed part of the film, but i watched the majority of it and everything just seemed to happen of its own accord without any real concern for anything else. I cant recommend this film at all.\n",
      "레이블: 0\n",
      "Mann photographs the Alberta Rocky Mountains in a superb fashion, and Jimmy Stewart and Walter Brennan give enjoyable performances as they always seem to do. <br /><br />But come on Hollywood - a Mountie telling the people of Dawson City, Yukon to elect themselves a marshal (yes a marshal!) and to enforce the law themselves, then gunfighters battling it out on the streets for control of the town? <br /><br />Nothing even remotely resembling that happened on the Canadian side of the border during the Klondike gold rush. Mr. Mann and company appear to have mistaken Dawson City for Deadwood, the Canadian North for the American Wild West.<br /><br />Canadian viewers be prepared for a Reefer Madness type of enjoyable howl with this ludicrous plot, or, to shake your head in disgust.\n",
      "레이블: 0\n",
      "This is the kind of film for a snowy Sunday afternoon when the rest of the world can go ahead with its own business as you descend into a big arm-chair and mellow for a couple of hours. Wonderful performances from Cher and Nicolas Cage (as always) gently row the plot along. There are no rapids to cross, no dangerous waters, just a warm and witty paddle through New York life at its best. A family film in every sense and one that deserves the praise it received.\n",
      "레이블: 1\n"
     ]
    }
   ],
   "source": [
    "for review, label in raw_train_set.take(4):\n",
    "    print(review.numpy().decode(\"utf-8\"))\n",
    "    print(\"레이블:\", label.numpy())"
   ]
  },
  {
   "cell_type": "code",
   "execution_count": 51,
   "id": "45f8c3dc",
   "metadata": {},
   "outputs": [],
   "source": [
    "Layers = tf.keras.layers\n",
    "vocab_size = 1000\n",
    "text_vec_layer = Layers.TextVectorization(max_tokens=vocab_size)\n",
    "text_vec_layer.adapt(train_set.map(lambda reviews, labels: reviews))"
   ]
  },
  {
   "cell_type": "code",
   "execution_count": 53,
   "id": "1101bccd",
   "metadata": {
    "scrolled": true
   },
   "outputs": [
    {
     "name": "stdout",
     "output_type": "stream",
     "text": [
      "Epoch 1/2\n",
      "704/704 [==============================] - 45s 60ms/step - loss: 0.6934 - accuracy: 0.4990 - val_loss: 0.6931 - val_accuracy: 0.5016\n",
      "Epoch 2/2\n",
      "704/704 [==============================] - 43s 61ms/step - loss: 0.6934 - accuracy: 0.5042 - val_loss: 0.6942 - val_accuracy: 0.5008\n"
     ]
    }
   ],
   "source": [
    "embed_size = 128\n",
    "tf.random.set_seed(42)\n",
    "model = tf.keras.Sequential([\n",
    "    text_vec_layer,\n",
    "    Layers.Embedding(vocab_size, embed_size),\n",
    "    Layers.GRU(128),\n",
    "    Layers.Dense(1, activation='sigmoid')\n",
    "])\n",
    "model.compile(loss='binary_crossentropy', optimizer='nadam',\n",
    "             metrics=['accuracy'])\n",
    "history = model.fit(train_set, validation_data=valid_set, epochs=2)"
   ]
  },
  {
   "cell_type": "code",
   "execution_count": 54,
   "id": "b62827ba",
   "metadata": {},
   "outputs": [
    {
     "name": "stdout",
     "output_type": "stream",
     "text": [
      "Epoch 1/2\n",
      "704/704 [==============================] - 45s 59ms/step - loss: 0.5189 - accuracy: 0.7284 - val_loss: 0.3693 - val_accuracy: 0.8416\n",
      "Epoch 2/2\n",
      "704/704 [==============================] - 41s 59ms/step - loss: 0.3377 - accuracy: 0.8588 - val_loss: 0.3153 - val_accuracy: 0.8684\n"
     ]
    }
   ],
   "source": [
    "embed_size = 128\n",
    "tf.random.set_seed(42)\n",
    "model = tf.keras.Sequential([\n",
    "    text_vec_layer,\n",
    "    Layers.Embedding(vocab_size, embed_size, mask_zero=True),\n",
    "    Layers.GRU(128),\n",
    "    Layers.Dense(1, activation='sigmoid')\n",
    "])\n",
    "model.compile(loss='binary_crossentropy', optimizer='nadam',\n",
    "             metrics=['accuracy'])\n",
    "history = model.fit(train_set, validation_data=valid_set, epochs=2)"
   ]
  },
  {
   "cell_type": "code",
   "execution_count": 56,
   "id": "0b62a771",
   "metadata": {},
   "outputs": [],
   "source": [
    "tf.random.set_seed(42)\n",
    "inputs = Layers.Input(shape=[], dtype=tf.string)\n",
    "token_ids = text_vec_layer(inputs)\n",
    "mask = tf.math.not_equal(token_ids, 0)\n",
    "Z = Layers.Embedding(vocab_size, embed_size)(token_ids)\n",
    "Z = Layers.GRU(128, dropout=0.2)(Z, mask=mask)\n",
    "outputs = Layers.Dense(1, activation='sigmoid')(Z)\n",
    "model = tf.keras.Model(inputs=[inputs], outputs=[outputs])"
   ]
  },
  {
   "cell_type": "code",
   "execution_count": 57,
   "id": "3a6e94a6",
   "metadata": {},
   "outputs": [
    {
     "name": "stdout",
     "output_type": "stream",
     "text": [
      "Epoch 1/2\n",
      "704/704 [==============================] - 46s 61ms/step - loss: 0.5352 - accuracy: 0.7219 - val_loss: 0.4195 - val_accuracy: 0.8124\n",
      "Epoch 2/2\n",
      "704/704 [==============================] - 42s 60ms/step - loss: 0.3456 - accuracy: 0.8529 - val_loss: 0.3370 - val_accuracy: 0.8636\n"
     ]
    }
   ],
   "source": [
    "model.compile(loss=\"binary_crossentropy\", optimizer=\"nadam\",\n",
    "              metrics=[\"accuracy\"])\n",
    "history = model.fit(train_set, validation_data=valid_set, epochs=2)"
   ]
  },
  {
   "cell_type": "code",
   "execution_count": 60,
   "id": "b3f93a43",
   "metadata": {
    "scrolled": true
   },
   "outputs": [
    {
     "ename": "TypeError",
     "evalue": "('Keyword argument not understood:', 'ragged')",
     "output_type": "error",
     "traceback": [
      "\u001b[1;31m---------------------------------------------------------------------------\u001b[0m",
      "\u001b[1;31mTypeError\u001b[0m                                 Traceback (most recent call last)",
      "\u001b[1;32mC:\\Users\\Public\\Documents\\ESTsoft\\CreatorTemp\\ipykernel_18596\\1853154063.py\u001b[0m in \u001b[0;36m<module>\u001b[1;34m\u001b[0m\n\u001b[0;32m      2\u001b[0m \u001b[0mvocab_size\u001b[0m \u001b[1;33m=\u001b[0m \u001b[1;36m1000\u001b[0m\u001b[1;33m\u001b[0m\u001b[1;33m\u001b[0m\u001b[0m\n\u001b[0;32m      3\u001b[0m \u001b[1;33m\u001b[0m\u001b[0m\n\u001b[1;32m----> 4\u001b[1;33m \u001b[0mtext_vec_layer_ragged\u001b[0m \u001b[1;33m=\u001b[0m \u001b[0mLayers\u001b[0m\u001b[1;33m.\u001b[0m\u001b[0mTextVectorization\u001b[0m\u001b[1;33m(\u001b[0m\u001b[0mmax_tokens\u001b[0m\u001b[1;33m=\u001b[0m\u001b[0mvocab_size\u001b[0m\u001b[1;33m,\u001b[0m \u001b[0mragged\u001b[0m\u001b[1;33m=\u001b[0m\u001b[1;32mTrue\u001b[0m\u001b[1;33m)\u001b[0m\u001b[1;33m\u001b[0m\u001b[1;33m\u001b[0m\u001b[0m\n\u001b[0m\u001b[0;32m      5\u001b[0m \u001b[0mtext_vec_layer_ragged\u001b[0m\u001b[1;33m.\u001b[0m\u001b[0madapt\u001b[0m\u001b[1;33m(\u001b[0m\u001b[0mtrain_set\u001b[0m\u001b[1;33m.\u001b[0m\u001b[0mmap\u001b[0m\u001b[1;33m(\u001b[0m\u001b[1;32mlambda\u001b[0m \u001b[0mreviews\u001b[0m\u001b[1;33m,\u001b[0m \u001b[0mlabels\u001b[0m\u001b[1;33m:\u001b[0m \u001b[0mreviews\u001b[0m\u001b[1;33m)\u001b[0m\u001b[1;33m)\u001b[0m\u001b[1;33m\u001b[0m\u001b[1;33m\u001b[0m\u001b[0m\n\u001b[0;32m      6\u001b[0m \u001b[0mtext_vec_layer_ragged\u001b[0m\u001b[1;33m(\u001b[0m\u001b[1;33m[\u001b[0m\u001b[1;34m\"Great movie!\"\u001b[0m\u001b[1;33m,\u001b[0m \u001b[1;34m\"This is DiCaprio's best role.\"\u001b[0m\u001b[1;33m]\u001b[0m\u001b[1;33m)\u001b[0m\u001b[1;33m\u001b[0m\u001b[1;33m\u001b[0m\u001b[0m\n",
      "\u001b[1;32m~\\anaconda3\\envs\\jun\\lib\\site-packages\\keras\\layers\\preprocessing\\text_vectorization.py\u001b[0m in \u001b[0;36m__init__\u001b[1;34m(self, max_tokens, standardize, split, ngrams, output_mode, output_sequence_length, pad_to_max_tokens, vocabulary, **kwargs)\u001b[0m\n\u001b[0;32m    307\u001b[0m     \u001b[0mkwargs\u001b[0m\u001b[1;33m.\u001b[0m\u001b[0mpop\u001b[0m\u001b[1;33m(\u001b[0m\u001b[1;34m\"vocabulary_size\"\u001b[0m\u001b[1;33m,\u001b[0m \u001b[1;32mNone\u001b[0m\u001b[1;33m)\u001b[0m\u001b[1;33m\u001b[0m\u001b[1;33m\u001b[0m\u001b[0m\n\u001b[0;32m    308\u001b[0m \u001b[1;33m\u001b[0m\u001b[0m\n\u001b[1;32m--> 309\u001b[1;33m     \u001b[0msuper\u001b[0m\u001b[1;33m(\u001b[0m\u001b[1;33m)\u001b[0m\u001b[1;33m.\u001b[0m\u001b[0m__init__\u001b[0m\u001b[1;33m(\u001b[0m\u001b[1;33m**\u001b[0m\u001b[0mkwargs\u001b[0m\u001b[1;33m)\u001b[0m\u001b[1;33m\u001b[0m\u001b[1;33m\u001b[0m\u001b[0m\n\u001b[0m\u001b[0;32m    310\u001b[0m     base_preprocessing_layer.keras_kpl_gauge.get_cell(\"TextVectorization\").set(\n\u001b[0;32m    311\u001b[0m         True)\n",
      "\u001b[1;32m~\\anaconda3\\envs\\jun\\lib\\site-packages\\keras\\engine\\base_preprocessing_layer.py\u001b[0m in \u001b[0;36m__init__\u001b[1;34m(self, **kwargs)\u001b[0m\n\u001b[0;32m     55\u001b[0m \u001b[1;33m\u001b[0m\u001b[0m\n\u001b[0;32m     56\u001b[0m   \u001b[1;32mdef\u001b[0m \u001b[0m__init__\u001b[0m\u001b[1;33m(\u001b[0m\u001b[0mself\u001b[0m\u001b[1;33m,\u001b[0m \u001b[1;33m**\u001b[0m\u001b[0mkwargs\u001b[0m\u001b[1;33m)\u001b[0m\u001b[1;33m:\u001b[0m\u001b[1;33m\u001b[0m\u001b[1;33m\u001b[0m\u001b[0m\n\u001b[1;32m---> 57\u001b[1;33m     \u001b[0msuper\u001b[0m\u001b[1;33m(\u001b[0m\u001b[0mPreprocessingLayer\u001b[0m\u001b[1;33m,\u001b[0m \u001b[0mself\u001b[0m\u001b[1;33m)\u001b[0m\u001b[1;33m.\u001b[0m\u001b[0m__init__\u001b[0m\u001b[1;33m(\u001b[0m\u001b[1;33m**\u001b[0m\u001b[0mkwargs\u001b[0m\u001b[1;33m)\u001b[0m\u001b[1;33m\u001b[0m\u001b[1;33m\u001b[0m\u001b[0m\n\u001b[0m\u001b[0;32m     58\u001b[0m     \u001b[0mself\u001b[0m\u001b[1;33m.\u001b[0m\u001b[0m_is_compiled\u001b[0m \u001b[1;33m=\u001b[0m \u001b[1;32mFalse\u001b[0m\u001b[1;33m\u001b[0m\u001b[1;33m\u001b[0m\u001b[0m\n\u001b[0;32m     59\u001b[0m     \u001b[0mself\u001b[0m\u001b[1;33m.\u001b[0m\u001b[0m_is_adapted\u001b[0m \u001b[1;33m=\u001b[0m \u001b[1;32mFalse\u001b[0m\u001b[1;33m\u001b[0m\u001b[1;33m\u001b[0m\u001b[0m\n",
      "\u001b[1;32m~\\anaconda3\\envs\\jun\\lib\\site-packages\\tensorflow\\python\\training\\tracking\\base.py\u001b[0m in \u001b[0;36m_method_wrapper\u001b[1;34m(self, *args, **kwargs)\u001b[0m\n\u001b[0;32m    528\u001b[0m     \u001b[0mself\u001b[0m\u001b[1;33m.\u001b[0m\u001b[0m_self_setattr_tracking\u001b[0m \u001b[1;33m=\u001b[0m \u001b[1;32mFalse\u001b[0m  \u001b[1;31m# pylint: disable=protected-access\u001b[0m\u001b[1;33m\u001b[0m\u001b[1;33m\u001b[0m\u001b[0m\n\u001b[0;32m    529\u001b[0m     \u001b[1;32mtry\u001b[0m\u001b[1;33m:\u001b[0m\u001b[1;33m\u001b[0m\u001b[1;33m\u001b[0m\u001b[0m\n\u001b[1;32m--> 530\u001b[1;33m       \u001b[0mresult\u001b[0m \u001b[1;33m=\u001b[0m \u001b[0mmethod\u001b[0m\u001b[1;33m(\u001b[0m\u001b[0mself\u001b[0m\u001b[1;33m,\u001b[0m \u001b[1;33m*\u001b[0m\u001b[0margs\u001b[0m\u001b[1;33m,\u001b[0m \u001b[1;33m**\u001b[0m\u001b[0mkwargs\u001b[0m\u001b[1;33m)\u001b[0m\u001b[1;33m\u001b[0m\u001b[1;33m\u001b[0m\u001b[0m\n\u001b[0m\u001b[0;32m    531\u001b[0m     \u001b[1;32mfinally\u001b[0m\u001b[1;33m:\u001b[0m\u001b[1;33m\u001b[0m\u001b[1;33m\u001b[0m\u001b[0m\n\u001b[0;32m    532\u001b[0m       \u001b[0mself\u001b[0m\u001b[1;33m.\u001b[0m\u001b[0m_self_setattr_tracking\u001b[0m \u001b[1;33m=\u001b[0m \u001b[0mprevious_value\u001b[0m  \u001b[1;31m# pylint: disable=protected-access\u001b[0m\u001b[1;33m\u001b[0m\u001b[1;33m\u001b[0m\u001b[0m\n",
      "\u001b[1;32m~\\anaconda3\\envs\\jun\\lib\\site-packages\\keras\\engine\\base_layer.py\u001b[0m in \u001b[0;36m__init__\u001b[1;34m(self, trainable, name, dtype, dynamic, **kwargs)\u001b[0m\n\u001b[0;32m    321\u001b[0m     }\n\u001b[0;32m    322\u001b[0m     \u001b[1;31m# Validate optional keyword arguments.\u001b[0m\u001b[1;33m\u001b[0m\u001b[1;33m\u001b[0m\u001b[1;33m\u001b[0m\u001b[0m\n\u001b[1;32m--> 323\u001b[1;33m     \u001b[0mgeneric_utils\u001b[0m\u001b[1;33m.\u001b[0m\u001b[0mvalidate_kwargs\u001b[0m\u001b[1;33m(\u001b[0m\u001b[0mkwargs\u001b[0m\u001b[1;33m,\u001b[0m \u001b[0mallowed_kwargs\u001b[0m\u001b[1;33m)\u001b[0m\u001b[1;33m\u001b[0m\u001b[1;33m\u001b[0m\u001b[0m\n\u001b[0m\u001b[0;32m    324\u001b[0m \u001b[1;33m\u001b[0m\u001b[0m\n\u001b[0;32m    325\u001b[0m     \u001b[1;31m# Mutable properties\u001b[0m\u001b[1;33m\u001b[0m\u001b[1;33m\u001b[0m\u001b[1;33m\u001b[0m\u001b[0m\n",
      "\u001b[1;32m~\\anaconda3\\envs\\jun\\lib\\site-packages\\keras\\utils\\generic_utils.py\u001b[0m in \u001b[0;36mvalidate_kwargs\u001b[1;34m(kwargs, allowed_kwargs, error_message)\u001b[0m\n\u001b[0;32m   1141\u001b[0m   \u001b[1;32mfor\u001b[0m \u001b[0mkwarg\u001b[0m \u001b[1;32min\u001b[0m \u001b[0mkwargs\u001b[0m\u001b[1;33m:\u001b[0m\u001b[1;33m\u001b[0m\u001b[1;33m\u001b[0m\u001b[0m\n\u001b[0;32m   1142\u001b[0m     \u001b[1;32mif\u001b[0m \u001b[0mkwarg\u001b[0m \u001b[1;32mnot\u001b[0m \u001b[1;32min\u001b[0m \u001b[0mallowed_kwargs\u001b[0m\u001b[1;33m:\u001b[0m\u001b[1;33m\u001b[0m\u001b[1;33m\u001b[0m\u001b[0m\n\u001b[1;32m-> 1143\u001b[1;33m       \u001b[1;32mraise\u001b[0m \u001b[0mTypeError\u001b[0m\u001b[1;33m(\u001b[0m\u001b[0merror_message\u001b[0m\u001b[1;33m,\u001b[0m \u001b[0mkwarg\u001b[0m\u001b[1;33m)\u001b[0m\u001b[1;33m\u001b[0m\u001b[1;33m\u001b[0m\u001b[0m\n\u001b[0m\u001b[0;32m   1144\u001b[0m \u001b[1;33m\u001b[0m\u001b[0m\n\u001b[0;32m   1145\u001b[0m \u001b[1;33m\u001b[0m\u001b[0m\n",
      "\u001b[1;31mTypeError\u001b[0m: ('Keyword argument not understood:', 'ragged')"
     ]
    }
   ],
   "source": [
    "Layers = tf.keras.layers\n",
    "vocab_size = 1000\n",
    "\n",
    "text_vec_layer_ragged = Layers.TextVectorization(max_tokens=vocab_size, ragged=True)\n",
    "text_vec_layer_ragged.adapt(train_set.map(lambda reviews, labels: reviews))\n",
    "text_vec_layer_ragged([\"Great movie!\", \"This is DiCaprio's best role.\"])"
   ]
  },
  {
   "cell_type": "code",
   "execution_count": 65,
   "id": "04e9fb53",
   "metadata": {},
   "outputs": [
    {
     "name": "stdout",
     "output_type": "stream",
     "text": [
      "Collecting tensorflow-hub\n",
      "  Downloading tensorflow_hub-0.16.1-py2.py3-none-any.whl (30 kB)\n",
      "Requirement already satisfied: numpy>=1.12.0 in c:\\users\\niceq\\anaconda3\\envs\\jun\\lib\\site-packages (from tensorflow-hub) (1.21.5)\n",
      "  Downloading tensorflow_hub-0.16.0-py2.py3-none-any.whl (30 kB)\n",
      "Requirement already satisfied: protobuf>=3.19.6 in c:\\users\\niceq\\anaconda3\\envs\\jun\\lib\\site-packages (from tensorflow-hub) (3.20.3)\n",
      "Installing collected packages: tensorflow-hub\n",
      "Successfully installed tensorflow-hub-0.16.0\n",
      "Note: you may need to restart the kernel to use updated packages.\n"
     ]
    }
   ],
   "source": [
    "pip install tensorflow-hub"
   ]
  },
  {
   "cell_type": "code",
   "execution_count": 67,
   "id": "ba15ac7e",
   "metadata": {},
   "outputs": [
    {
     "name": "stdout",
     "output_type": "stream",
     "text": [
      "Epoch 1/10\n",
      "704/704 [==============================] - 134s 172ms/step - loss: 0.3164 - accuracy: 0.8638 - val_loss: 0.5114 - val_accuracy: 0.7772\n",
      "Epoch 2/10\n",
      "704/704 [==============================] - 119s 169ms/step - loss: 0.0492 - accuracy: 0.9849 - val_loss: 0.3416 - val_accuracy: 0.8832\n",
      "Epoch 3/10\n",
      "704/704 [==============================] - 119s 169ms/step - loss: 0.0066 - accuracy: 0.9988 - val_loss: 0.3808 - val_accuracy: 0.8944\n",
      "Epoch 4/10\n",
      "704/704 [==============================] - 118s 168ms/step - loss: 8.4306e-04 - accuracy: 0.9999 - val_loss: 0.4152 - val_accuracy: 0.8968\n",
      "Epoch 5/10\n",
      "704/704 [==============================] - 120s 170ms/step - loss: 4.8458e-04 - accuracy: 1.0000 - val_loss: 0.4423 - val_accuracy: 0.8980\n",
      "Epoch 6/10\n",
      "704/704 [==============================] - 119s 170ms/step - loss: 5.9224e-05 - accuracy: 1.0000 - val_loss: 0.4692 - val_accuracy: 0.8976\n",
      "Epoch 7/10\n",
      "704/704 [==============================] - 124s 177ms/step - loss: 2.9539e-05 - accuracy: 1.0000 - val_loss: 0.4890 - val_accuracy: 0.8980\n",
      "Epoch 8/10\n",
      "704/704 [==============================] - 119s 169ms/step - loss: 1.7841e-05 - accuracy: 1.0000 - val_loss: 0.5084 - val_accuracy: 0.8976\n",
      "Epoch 9/10\n",
      "704/704 [==============================] - 118s 168ms/step - loss: 1.1193e-05 - accuracy: 1.0000 - val_loss: 0.5275 - val_accuracy: 0.8976\n",
      "Epoch 10/10\n",
      "704/704 [==============================] - 118s 167ms/step - loss: 7.1859e-06 - accuracy: 1.0000 - val_loss: 0.5466 - val_accuracy: 0.8976\n"
     ]
    },
    {
     "data": {
      "text/plain": [
       "<keras.callbacks.History at 0x13e31db2908>"
      ]
     },
     "execution_count": 67,
     "metadata": {},
     "output_type": "execute_result"
    }
   ],
   "source": [
    "import os\n",
    "import tensorflow_hub as hub\n",
    "\n",
    "Layers = tf.keras.layers\n",
    "\n",
    "# TFHub 캐시 디렉토리 설정\n",
    "os.environ['TFHUB_CACHE_DIR'] = 'my_tfhub_cache'\n",
    "\n",
    "# 모델 정의\n",
    "model = tf.keras.Sequential([\n",
    "    hub.KerasLayer('https://tfhub.dev/google/universal-sentence-encoder/4',\n",
    "                   trainable=True, dtype=tf.string, input_shape=[], name='USE_layer'),\n",
    "    Layers.Dense(64, activation='relu'),\n",
    "    Layers.Dense(1, activation='sigmoid')\n",
    "])\n",
    "\n",
    "# 모델 컴파일\n",
    "model.compile(loss='binary_crossentropy', optimizer='nadam',\n",
    "              metrics=['accuracy'])\n",
    "\n",
    "# 모델 학습\n",
    "model.fit(train_set, validation_data=valid_set, epochs=10)"
   ]
  },
  {
   "cell_type": "code",
   "execution_count": 4,
   "id": "802bcf84",
   "metadata": {},
   "outputs": [
    {
     "name": "stdout",
     "output_type": "stream",
     "text": [
      "Go.\tVe.\n",
      "Go.\tVete.\n",
      "Go.\tVaya.\n",
      "Go.\tVáyase.\n",
      "Hi.\tHola.\n",
      "Run!\t¡Corre!\n",
      "Run.\tCorred.\n",
      "Who?\t¿Quién?\n",
      "Fire!\t¡Fuego!\n",
      "Fire!\t¡Incendio!\n",
      "Fire!\t¡Disparad!\n",
      "Help!\t¡Ayuda!\n",
      "Help!\t¡Socorro! ¡Auxilio!\n",
      "Help!\t¡Auxilio!\n",
      "Jump!\t¡Salta!\n",
      "Jump.\tSalte.\n",
      "Stop!\t¡Parad!\n",
      "Stop!\t¡Para!\n",
      "Stop!\t¡Pare!\n",
      "Wait!\t¡Espera!\n",
      "Wait.\tEsperen.\n",
      "Go on.\tContinúa.\n",
      "Go on.\tContinúe.\n",
      "Hello!\tHola.\n",
      "I ran.\tCorrí.\n",
      "I ran.\tCorría.\n",
      "I try.\tLo intento.\n",
      "I won!\t¡He ganado!\n",
      "Oh no!\t¡Oh, no!\n",
      "Relax.\tTomátelo con soda.\n",
      "Smile.\tSonríe.\n",
      "Attack!\t¡Al ataque!\n",
      "Attack!\t¡Atacad!\n",
      "Ge\n"
     ]
    }
   ],
   "source": [
    "from pathlib import Path\n",
    "\n",
    "url = \"https://storage.googleapis.com/download.tensorflow.org/data/spa-eng.zip\"\n",
    "path = tf.keras.utils.get_file(\"spa-eng.zip\", origin=url, cache_dir=\"datasets\",\n",
    "                               extract=True)\n",
    "text_path = Path(path).with_name(\"spa-eng\") / \"spa.txt\"\n",
    "text = text_path.read_text(encoding='utf-8')\n",
    "\n",
    "print(text[:500])  # 텍스트 파일의 처음 500자를 출력하여 확인"
   ]
  },
  {
   "cell_type": "code",
   "execution_count": 5,
   "id": "365dc549",
   "metadata": {},
   "outputs": [],
   "source": [
    "import numpy as np\n",
    "\n",
    "text = text.replace(\"¡\", \"\").replace(\"¿\", \"\")\n",
    "pairs = [line.split(\"\\t\") for line in text.splitlines()]\n",
    "np.random.seed(42)\n",
    "np.random.shuffle(pairs)\n",
    "sentences_en, sentences_es = zip(*pairs)  # 쌍을 2개의 리스트로 분리"
   ]
  },
  {
   "cell_type": "code",
   "execution_count": 6,
   "id": "130d5cb8",
   "metadata": {},
   "outputs": [
    {
     "name": "stdout",
     "output_type": "stream",
     "text": [
      "How boring! => Qué aburrimiento!\n",
      "I love sports. => Adoro el deporte.\n",
      "Would you like to swap jobs? => Te gustaría que intercambiemos los trabajos?\n"
     ]
    }
   ],
   "source": [
    "for i in range(3):\n",
    "    print(sentences_en[i], '=>', sentences_es[i])"
   ]
  },
  {
   "cell_type": "code",
   "execution_count": 7,
   "id": "7b5ffd41",
   "metadata": {},
   "outputs": [],
   "source": [
    "Layers = tf.keras.layers\n",
    "\n",
    "vocab_size = 1000\n",
    "max_length = 50\n",
    "text_vec_layer_en = Layers.TextVectorization(\n",
    "    vocab_size, output_sequence_length=max_length)\n",
    "text_vec_layer_es = Layers.TextVectorization(\n",
    "    vocab_size, output_sequence_length=max_length)\n",
    "text_vec_layer_en.adapt(sentences_en)\n",
    "text_vec_layer_es.adapt([f'startofseq {s} endofseq' for s in sentences_es])"
   ]
  },
  {
   "cell_type": "code",
   "execution_count": 8,
   "id": "cbdea6c7",
   "metadata": {},
   "outputs": [
    {
     "name": "stdout",
     "output_type": "stream",
     "text": [
      "['', '[UNK]', 'the', 'i', 'to', 'you', 'tom', 'a', 'is', 'he']\n",
      "['', '[UNK]', 'startofseq', 'endofseq', 'de', 'que', 'a', 'no', 'tom', 'la']\n"
     ]
    }
   ],
   "source": [
    "print(text_vec_layer_en.get_vocabulary()[:10])\n",
    "print(text_vec_layer_es.get_vocabulary()[:10])"
   ]
  },
  {
   "cell_type": "code",
   "execution_count": 9,
   "id": "74aa5297",
   "metadata": {},
   "outputs": [],
   "source": [
    "X_train = tf.constant(sentences_en[:100_000])\n",
    "X_valid = tf.constant(sentences_en[100_000:])\n",
    "X_train_dec = tf.constant([f\"startofseq {s}\" for s in sentences_es[:100_000]])\n",
    "X_valid_dec = tf.constant([f\"startofseq {s}\" for s in sentences_es[100_000:]])\n",
    "Y_train = text_vec_layer_es([f\"{s} endofseq\" for s in sentences_es[:100_000]])\n",
    "Y_valid = text_vec_layer_es([f\"{s} endofseq\" for s in sentences_es[100_000:]])"
   ]
  },
  {
   "cell_type": "code",
   "execution_count": 10,
   "id": "20930dde",
   "metadata": {},
   "outputs": [],
   "source": [
    "tf.random.set_seed(42)  # 추가 코드 - CPU에서 재현성 보장\n",
    "encoder_inputs = tf.keras.layers.Input(shape=[], dtype=tf.string)\n",
    "decoder_inputs = tf.keras.layers.Input(shape=[], dtype=tf.string)"
   ]
  },
  {
   "cell_type": "code",
   "execution_count": 11,
   "id": "f6330cbc",
   "metadata": {},
   "outputs": [],
   "source": [
    "embed_size = 128\n",
    "encoder_input_ids = text_vec_layer_en(encoder_inputs)\n",
    "decoder_input_ids = text_vec_layer_es(decoder_inputs)\n",
    "encoder_embedding_layer = tf.keras.layers.Embedding(vocab_size, embed_size,\n",
    "                                                    mask_zero=True)\n",
    "decoder_embedding_layer = tf.keras.layers.Embedding(vocab_size, embed_size,\n",
    "                                                    mask_zero=True)\n",
    "encoder_embeddings = encoder_embedding_layer(encoder_input_ids)\n",
    "decoder_embeddings = decoder_embedding_layer(decoder_input_ids)"
   ]
  },
  {
   "cell_type": "code",
   "execution_count": 12,
   "id": "0d6c5e66",
   "metadata": {},
   "outputs": [],
   "source": [
    "encoder = tf.keras.layers.LSTM(512, return_state=True)\n",
    "encoder_outputs, *encoder_state = encoder(encoder_embeddings)"
   ]
  },
  {
   "cell_type": "code",
   "execution_count": 13,
   "id": "367c1d58",
   "metadata": {},
   "outputs": [],
   "source": [
    "decoder = tf.keras.layers.LSTM(512, return_sequences=True)\n",
    "decoder_outputs = decoder(decoder_embeddings, initial_state=encoder_state)"
   ]
  },
  {
   "cell_type": "code",
   "execution_count": 14,
   "id": "cf5211ab",
   "metadata": {
    "scrolled": true
   },
   "outputs": [],
   "source": [
    "output_layer = tf.keras.layers.Dense(vocab_size, activation=\"softmax\")\n",
    "Y_proba = output_layer(decoder_outputs)"
   ]
  },
  {
   "cell_type": "code",
   "execution_count": 15,
   "id": "73236462",
   "metadata": {},
   "outputs": [
    {
     "name": "stdout",
     "output_type": "stream",
     "text": [
      "Epoch 1/10\n",
      "3125/3125 [==============================] - 89s 25ms/step - loss: 0.4148 - accuracy: 0.4263 - val_loss: 0.3063 - val_accuracy: 0.5249\n",
      "Epoch 2/10\n",
      "3125/3125 [==============================] - 79s 25ms/step - loss: 0.2631 - accuracy: 0.5740 - val_loss: 0.2361 - val_accuracy: 0.6054\n",
      "Epoch 3/10\n",
      "3125/3125 [==============================] - 84s 27ms/step - loss: 0.2066 - accuracy: 0.6451 - val_loss: 0.2061 - val_accuracy: 0.6494\n",
      "Epoch 4/10\n",
      "3125/3125 [==============================] - 88s 28ms/step - loss: 0.1741 - accuracy: 0.6897 - val_loss: 0.1922 - val_accuracy: 0.6688\n",
      "Epoch 5/10\n",
      "3125/3125 [==============================] - 83s 27ms/step - loss: 0.1509 - accuracy: 0.7238 - val_loss: 0.1864 - val_accuracy: 0.6779\n",
      "Epoch 6/10\n",
      "3125/3125 [==============================] - 81s 26ms/step - loss: 0.1321 - accuracy: 0.7515 - val_loss: 0.1851 - val_accuracy: 0.6802\n",
      "Epoch 7/10\n",
      "3125/3125 [==============================] - 79s 25ms/step - loss: 0.1159 - accuracy: 0.7766 - val_loss: 0.1872 - val_accuracy: 0.6818\n",
      "Epoch 8/10\n",
      "3125/3125 [==============================] - 79s 25ms/step - loss: 0.1017 - accuracy: 0.7997 - val_loss: 0.1910 - val_accuracy: 0.6808\n",
      "Epoch 9/10\n",
      "3125/3125 [==============================] - 94s 30ms/step - loss: 0.0892 - accuracy: 0.8209 - val_loss: 0.1958 - val_accuracy: 0.6802\n",
      "Epoch 10/10\n",
      "3125/3125 [==============================] - 88s 28ms/step - loss: 0.0785 - accuracy: 0.8398 - val_loss: 0.2027 - val_accuracy: 0.6752\n"
     ]
    },
    {
     "data": {
      "text/plain": [
       "<keras.callbacks.History at 0x25be9027488>"
      ]
     },
     "execution_count": 15,
     "metadata": {},
     "output_type": "execute_result"
    }
   ],
   "source": [
    "model = tf.keras.Model(inputs=[encoder_inputs, decoder_inputs],\n",
    "                       outputs=[Y_proba])\n",
    "model.compile(loss=\"sparse_categorical_crossentropy\", optimizer=\"nadam\",\n",
    "              metrics=[\"accuracy\"])\n",
    "model.fit((X_train, X_train_dec), Y_train, epochs=10,\n",
    "          validation_data=((X_valid, X_valid_dec), Y_valid))"
   ]
  },
  {
   "cell_type": "code",
   "execution_count": 16,
   "id": "93c26cd7",
   "metadata": {},
   "outputs": [],
   "source": [
    "def translate(sentence_en):\n",
    "    translation = \"\"\n",
    "    for word_idx in range(max_length):\n",
    "        X = np.array([sentence_en])  # 인코더 입력\n",
    "        X_dec = np.array([\"startofseq \" + translation])  # 디코더 입력\n",
    "        y_proba = model.predict((X, X_dec))[0, word_idx]  # 마지막 토큰 확률\n",
    "        predicted_word_id = np.argmax(y_proba)\n",
    "        predicted_word = text_vec_layer_es.get_vocabulary()[predicted_word_id]\n",
    "        if predicted_word == \"endofseq\":\n",
    "            break\n",
    "        translation += \" \" + predicted_word\n",
    "    return translation.strip()"
   ]
  },
  {
   "cell_type": "code",
   "execution_count": 17,
   "id": "3c0c733a",
   "metadata": {},
   "outputs": [
    {
     "name": "stdout",
     "output_type": "stream",
     "text": [
      "gracias por mi amigo\n",
      "me gusta el [UNK] y a [UNK] la música\n"
     ]
    }
   ],
   "source": [
    "print(translate('Thank you so much, my friend'))\n",
    "print(translate('I like soccer and also going to the mountain'))"
   ]
  },
  {
   "cell_type": "code",
   "execution_count": 18,
   "id": "edd52069",
   "metadata": {},
   "outputs": [],
   "source": [
    "tf.random.set_seed(42)\n",
    "encoder = tf.keras.layers.Bidirectional(\n",
    "    tf.keras.layers.LSTM(256, return_state=True))"
   ]
  },
  {
   "cell_type": "code",
   "execution_count": 19,
   "id": "324fce51",
   "metadata": {},
   "outputs": [],
   "source": [
    "encoder_outputs, *encoder_state = encoder(encoder_embeddings)\n",
    "encoder_state = [tf.concat(encoder_state[::2], axis=-1),  # 단기 상태 (0 & 2)\n",
    "                 tf.concat(encoder_state[1::2], axis=-1)]  # 장기 상태 (1 & 3)"
   ]
  },
  {
   "cell_type": "code",
   "execution_count": 20,
   "id": "8cfc1c1d",
   "metadata": {},
   "outputs": [
    {
     "name": "stdout",
     "output_type": "stream",
     "text": [
      "Epoch 1/10\n",
      "3125/3125 [==============================] - 127s 38ms/step - loss: 0.3048 - accuracy: 0.5423 - val_loss: 0.2183 - val_accuracy: 0.6350\n",
      "Epoch 2/10\n",
      "3125/3125 [==============================] - 111s 36ms/step - loss: 0.1904 - accuracy: 0.6706 - val_loss: 0.1872 - val_accuracy: 0.6745\n",
      "Epoch 3/10\n",
      "3125/3125 [==============================] - 107s 34ms/step - loss: 0.1594 - accuracy: 0.7132 - val_loss: 0.1755 - val_accuracy: 0.6917\n",
      "Epoch 4/10\n",
      "3125/3125 [==============================] - 111s 36ms/step - loss: 0.1387 - accuracy: 0.7427 - val_loss: 0.1712 - val_accuracy: 0.6982\n",
      "Epoch 5/10\n",
      "3125/3125 [==============================] - 108s 34ms/step - loss: 0.1221 - accuracy: 0.7681 - val_loss: 0.1710 - val_accuracy: 0.7011\n",
      "Epoch 6/10\n",
      "3125/3125 [==============================] - 108s 34ms/step - loss: 0.1078 - accuracy: 0.7899 - val_loss: 0.1736 - val_accuracy: 0.7006\n",
      "Epoch 7/10\n",
      "3125/3125 [==============================] - 116s 37ms/step - loss: 0.0955 - accuracy: 0.8103 - val_loss: 0.1778 - val_accuracy: 0.6985\n",
      "Epoch 8/10\n",
      "3125/3125 [==============================] - 113s 36ms/step - loss: 0.0848 - accuracy: 0.8283 - val_loss: 0.1827 - val_accuracy: 0.6973\n",
      "Epoch 9/10\n",
      "3125/3125 [==============================] - 108s 34ms/step - loss: 0.0755 - accuracy: 0.8445 - val_loss: 0.1887 - val_accuracy: 0.6939\n",
      "Epoch 10/10\n",
      "3125/3125 [==============================] - 108s 34ms/step - loss: 0.0678 - accuracy: 0.8583 - val_loss: 0.1961 - val_accuracy: 0.6906\n"
     ]
    },
    {
     "data": {
      "text/plain": [
       "<keras.callbacks.History at 0x25c20e48888>"
      ]
     },
     "execution_count": 20,
     "metadata": {},
     "output_type": "execute_result"
    }
   ],
   "source": [
    "decoder = tf.keras.layers.LSTM(512, return_sequences=True)\n",
    "decoder_outputs = decoder(decoder_embeddings, initial_state=encoder_state)\n",
    "output_layer = tf.keras.layers.Dense(vocab_size, activation=\"softmax\")\n",
    "Y_proba = output_layer(decoder_outputs)\n",
    "model = tf.keras.Model(inputs=[encoder_inputs, decoder_inputs],\n",
    "                       outputs=[Y_proba])\n",
    "model.compile(loss=\"sparse_categorical_crossentropy\", optimizer=\"nadam\",\n",
    "              metrics=[\"accuracy\"])\n",
    "model.fit((X_train, X_train_dec), Y_train, epochs=10,\n",
    "          validation_data=((X_valid, X_valid_dec), Y_valid))"
   ]
  },
  {
   "cell_type": "code",
   "execution_count": 21,
   "id": "edee0c95",
   "metadata": {},
   "outputs": [
    {
     "name": "stdout",
     "output_type": "stream",
     "text": [
      "gracias tan bien mi francés\n",
      "me gusta el [UNK] y [UNK] [UNK]\n"
     ]
    }
   ],
   "source": [
    "print(translate('Thank you so much, my friend'))\n",
    "print(translate('I like soccer and also going to the mountain'))"
   ]
  },
  {
   "cell_type": "code",
   "execution_count": 22,
   "id": "9b1818f8",
   "metadata": {},
   "outputs": [],
   "source": [
    "def beam_search(sentence_en, beam_width, verbose=False):\n",
    "    X = np.array([sentence_en])  # 인코더 입력\n",
    "    X_dec = np.array([\"startofseq\"])  # 디코더 입력\n",
    "    y_proba = model.predict((X, X_dec))[0, 0]  # 첫 번째 토큰의 확률\n",
    "    top_k = tf.math.top_k(y_proba, k=beam_width)\n",
    "    top_translations = [  # 촤상의 (log_proba, translation) 리스트 \n",
    "        (np.log(word_proba), text_vec_layer_es.get_vocabulary()[word_id])\n",
    "        for word_proba, word_id in zip(top_k.values, top_k.indices)\n",
    "    ]\n",
    "    \n",
    "    # verbose 모드에서 상위 첫 단어 표시.\n",
    "    if verbose:\n",
    "        print(\"상위 첫 단어:\", top_translations)\n",
    "\n",
    "    for idx in range(1, max_length):\n",
    "        candidates = []\n",
    "        for log_proba, translation in top_translations:\n",
    "            if translation.endswith(\"endofseq\"):\n",
    "                candidates.append((log_proba, translation))\n",
    "                continue  # 번역이 완료되었으므로 번역을 이어가지 않음.\n",
    "            X = np.array([sentence_en])  # 인코더 입력\n",
    "            X_dec = np.array([\"startofseq \" + translation])  # 디코더 입력\n",
    "            y_proba = model.predict((X, X_dec))[0, idx]  # 마지막 토큰의 확률\n",
    "            for word_id, word_proba in enumerate(y_proba):\n",
    "                word = text_vec_layer_es.get_vocabulary()[word_id]\n",
    "                candidates.append((log_proba + np.log(word_proba),\n",
    "                                   f\"{translation} {word}\"))\n",
    "        top_translations = sorted(candidates, reverse=True)[:beam_width]\n",
    "\n",
    "        # verbose 모드의 경우 지금까지의 최상의 번역을 출력.\n",
    "        if verbose:\n",
    "            print(\"지금까지 최상의 번역:\", top_translations)\n",
    "\n",
    "        if all([tr.endswith(\"endofseq\") for _, tr in top_translations]):\n",
    "            return top_translations[0][1].replace(\"endofseq\", \"\").strip()"
   ]
  },
  {
   "cell_type": "code",
   "execution_count": 25,
   "id": "fb03aaa2",
   "metadata": {},
   "outputs": [
    {
     "data": {
      "text/plain": [
       "'me [UNK] los perros y los gatos'"
      ]
     },
     "execution_count": 25,
     "metadata": {},
     "output_type": "execute_result"
    }
   ],
   "source": [
    "sentence_en = \"I love cats and dogs\"\n",
    "translate(sentence_en)"
   ]
  },
  {
   "cell_type": "code",
   "execution_count": 26,
   "id": "18b7648b",
   "metadata": {},
   "outputs": [
    {
     "name": "stdout",
     "output_type": "stream",
     "text": [
      "상위 첫 단어: [(-0.04504073, 'me'), (-4.0019145, 'yo'), (-4.283175, 'soy')]\n",
      "지금까지 최상의 번역: [(-0.19241554, 'me [UNK]'), (-2.7681804, 'me quiero'), (-3.5393271, 'me encanta')]\n",
      "지금까지 최상의 번역: [(-0.4268397, 'me [UNK] los'), (-2.5307643, 'me [UNK] tanto'), (-3.023502, 'me [UNK] el')]\n",
      "지금까지 최상의 번역: [(-0.8609921, 'me [UNK] los perros'), (-1.760982, 'me [UNK] los gatos'), (-2.669132, 'me [UNK] tanto los')]\n",
      "지금까지 최상의 번역: [(-0.9755617, 'me [UNK] los perros y'), (-1.7809631, 'me [UNK] los gatos y'), (-2.6715562, 'me [UNK] tanto los perros')]\n",
      "지금까지 최상의 번역: [(-1.0129341, 'me [UNK] los perros y los'), (-2.0295806, 'me [UNK] los gatos y los'), (-2.6770267, 'me [UNK] tanto los perros endofseq')]\n",
      "지금까지 최상의 번역: [(-1.0481193, 'me [UNK] los perros y los gatos'), (-2.585886, 'me [UNK] los gatos y los gatos'), (-2.6770267, 'me [UNK] tanto los perros endofseq')]\n",
      "지금까지 최상의 번역: [(-1.0482124, 'me [UNK] los perros y los gatos endofseq'), (-2.5861943, 'me [UNK] los gatos y los gatos endofseq'), (-2.6770267, 'me [UNK] tanto los perros endofseq')]\n"
     ]
    },
    {
     "data": {
      "text/plain": [
       "'me [UNK] los perros y los gatos'"
      ]
     },
     "execution_count": 26,
     "metadata": {},
     "output_type": "execute_result"
    }
   ],
   "source": [
    "beam_search(sentence_en, beam_width=3, verbose=True)"
   ]
  },
  {
   "cell_type": "code",
   "execution_count": 32,
   "id": "4951b465",
   "metadata": {},
   "outputs": [],
   "source": [
    "tf.random.set_seed(42)\n",
    "encoder = tf.keras.layers.Bidirectional(\n",
    "    tf.keras.layers.LSTM(256, return_sequences=True, return_state=True))"
   ]
  },
  {
   "cell_type": "code",
   "execution_count": 33,
   "id": "5f57720b",
   "metadata": {},
   "outputs": [],
   "source": [
    "encoder_outputs, *encoder_state = encoder(encoder_embeddings)\n",
    "encoder_state = [tf.concat(encoder_state[::2], axis=-1),  # 단기 (0 & 2)\n",
    "                 tf.concat(encoder_state[1::2], axis=-1)]  # 장기 (1 & 3)\n",
    "decoder = tf.keras.layers.LSTM(512, return_sequences=True)\n",
    "decoder_outputs = decoder(decoder_embeddings, initial_state=encoder_state)"
   ]
  },
  {
   "cell_type": "code",
   "execution_count": 34,
   "id": "c1076c61",
   "metadata": {},
   "outputs": [],
   "source": [
    "attention_layer = tf.keras.layers.Attention()\n",
    "attention_outputs = attention_layer([decoder_outputs, encoder_outputs])\n",
    "output_layer = tf.keras.layers.Dense(vocab_size, activation=\"softmax\")\n",
    "Y_proba = output_layer(attention_outputs)"
   ]
  },
  {
   "cell_type": "code",
   "execution_count": 35,
   "id": "e59e7dde",
   "metadata": {},
   "outputs": [
    {
     "name": "stdout",
     "output_type": "stream",
     "text": [
      "Epoch 1/10\n",
      "3125/3125 [==============================] - 124s 37ms/step - loss: 0.3011 - accuracy: 0.5531 - val_loss: 0.2078 - val_accuracy: 0.6533\n",
      "Epoch 2/10\n",
      "3125/3125 [==============================] - 113s 36ms/step - loss: 0.1869 - accuracy: 0.6830 - val_loss: 0.1834 - val_accuracy: 0.6877\n",
      "Epoch 3/10\n",
      "3125/3125 [==============================] - 117s 37ms/step - loss: 0.1627 - accuracy: 0.7167 - val_loss: 0.1731 - val_accuracy: 0.7042\n",
      "Epoch 4/10\n",
      "3125/3125 [==============================] - 116s 37ms/step - loss: 0.1460 - accuracy: 0.7404 - val_loss: 0.1707 - val_accuracy: 0.7099\n",
      "Epoch 5/10\n",
      "3125/3125 [==============================] - 115s 37ms/step - loss: 0.1324 - accuracy: 0.7597 - val_loss: 0.1705 - val_accuracy: 0.7111\n",
      "Epoch 6/10\n",
      "3125/3125 [==============================] - 113s 36ms/step - loss: 0.1208 - accuracy: 0.7763 - val_loss: 0.1733 - val_accuracy: 0.7117\n",
      "Epoch 7/10\n",
      "3125/3125 [==============================] - 113s 36ms/step - loss: 0.1111 - accuracy: 0.7916 - val_loss: 0.1766 - val_accuracy: 0.7116\n",
      "Epoch 8/10\n",
      "3125/3125 [==============================] - 112s 36ms/step - loss: 0.1027 - accuracy: 0.8043 - val_loss: 0.1811 - val_accuracy: 0.7119\n",
      "Epoch 9/10\n",
      "3125/3125 [==============================] - 114s 37ms/step - loss: 0.0955 - accuracy: 0.8160 - val_loss: 0.1852 - val_accuracy: 0.7104\n",
      "Epoch 10/10\n",
      "3125/3125 [==============================] - 114s 37ms/step - loss: 0.0893 - accuracy: 0.8265 - val_loss: 0.1906 - val_accuracy: 0.7087\n"
     ]
    },
    {
     "data": {
      "text/plain": [
       "<keras.callbacks.History at 0x25c6fba6fc8>"
      ]
     },
     "execution_count": 35,
     "metadata": {},
     "output_type": "execute_result"
    }
   ],
   "source": [
    "model = tf.keras.Model(inputs=[encoder_inputs, decoder_inputs],\n",
    "                       outputs=[Y_proba])\n",
    "model.compile(loss=\"sparse_categorical_crossentropy\", optimizer=\"nadam\",\n",
    "              metrics=[\"accuracy\"])\n",
    "model.fit((X_train, X_train_dec), Y_train, epochs=10,\n",
    "          validation_data=((X_valid, X_valid_dec), Y_valid))"
   ]
  },
  {
   "cell_type": "code",
   "execution_count": 36,
   "id": "483cded9",
   "metadata": {},
   "outputs": [
    {
     "name": "stdout",
     "output_type": "stream",
     "text": [
      "gracias eres tanto\n",
      "me gusta el fútbol y también [UNK] a la montaña\n"
     ]
    }
   ],
   "source": [
    "print(translate('Thank you so much, my friend'))\n",
    "print(translate('I like soccer and also going to the mountain'))"
   ]
  },
  {
   "cell_type": "code",
   "execution_count": 37,
   "id": "9fc6994c",
   "metadata": {
    "scrolled": true
   },
   "outputs": [
    {
     "name": "stdout",
     "output_type": "stream",
     "text": [
      "상위 첫 단어: [(-0.039509714, 'me'), (-4.5310926, 'prefiero'), (-4.655327, 'yo')]\n",
      "지금까지 최상의 번역: [(-0.06455604, 'me gusta'), (-4.3230724, 'me [UNK]'), (-4.741438, 'yo me')]\n",
      "지금까지 최상의 번역: [(-0.846965, 'me gusta el'), (-1.9065726, 'me gusta la'), (-1.9676725, 'me gusta [UNK]')]\n",
      "지금까지 최상의 번역: [(-1.1798695, 'me gusta el fútbol'), (-2.0088732, 'me gusta [UNK] y'), (-2.019702, 'me gusta la montaña')]\n",
      "지금까지 최상의 번역: [(-1.1838566, 'me gusta el fútbol y'), (-2.0295765, 'me gusta la montaña y'), (-2.893911, 'me gusta [UNK] y [UNK]')]\n",
      "지금까지 최상의 번역: [(-1.8663366, 'me gusta el fútbol y también'), (-3.024449, 'me gusta la montaña y [UNK]'), (-3.229516, 'me gusta el fútbol y él')]\n",
      "지금까지 최상의 번역: [(-2.9593122, 'me gusta el fútbol y también [UNK]'), (-3.1821938, 'me gusta la montaña y [UNK] a'), (-3.3599944, 'me gusta el fútbol y también va')]\n",
      "지금까지 최상의 번역: [(-3.1671977, 'me gusta el fútbol y también [UNK] a'), (-3.184061, 'me gusta la montaña y [UNK] a la'), (-3.453124, 'me gusta el fútbol y también va a')]\n",
      "지금까지 최상의 번역: [(-3.1673627, 'me gusta el fútbol y también [UNK] a la'), (-3.1849802, 'me gusta la montaña y [UNK] a la montaña'), (-3.4534724, 'me gusta el fútbol y también va a la')]\n",
      "지금까지 최상의 번역: [(-3.1682534, 'me gusta el fútbol y también [UNK] a la montaña'), (-3.1857395, 'me gusta la montaña y [UNK] a la montaña endofseq'), (-3.454534, 'me gusta el fútbol y también va a la montaña')]\n",
      "지금까지 최상의 번역: [(-3.1688774, 'me gusta el fútbol y también [UNK] a la montaña endofseq'), (-3.1857395, 'me gusta la montaña y [UNK] a la montaña endofseq'), (-3.4569569, 'me gusta el fútbol y también va a la montaña endofseq')]\n"
     ]
    },
    {
     "data": {
      "text/plain": [
       "'me gusta el fútbol y también [UNK] a la montaña'"
      ]
     },
     "execution_count": 37,
     "metadata": {},
     "output_type": "execute_result"
    }
   ],
   "source": [
    "beam_search(\"I like soccer and also going to the mountain\", beam_width=3,\n",
    "            verbose=True)"
   ]
  },
  {
   "cell_type": "code",
   "execution_count": 50,
   "id": "d3837d4b",
   "metadata": {},
   "outputs": [],
   "source": [
    "max_length = 50  # 전체 훈련 세트에 있는 최대 길이\n",
    "embed_size = 128\n",
    "tf.random.set_seed(42)\n",
    "pos_embed_layer = tf.keras.layers.Embedding(max_length, embed_size)\n",
    "batch_max_len_enc = tf.shape(encoder_embeddings)[1]\n",
    "encoder_in = encoder_embeddings + pos_embed_layer(tf.range(batch_max_len_enc))\n",
    "batch_max_len_dec = tf.shape(decoder_embeddings)[1]\n",
    "decoder_in = decoder_embeddings + pos_embed_layer(tf.range(batch_max_len_dec))"
   ]
  },
  {
   "cell_type": "code",
   "execution_count": 51,
   "id": "6bdb5a98",
   "metadata": {},
   "outputs": [],
   "source": [
    "class PositionalEncoding(tf.keras.layers.Layer):\n",
    "    def __init__(self, max_length, embed_size, dtype=tf.float32, **kwargs):\n",
    "        super().__init__(dtype=dtype, **kwargs)\n",
    "        assert embed_size % 2 == 0, \"embed_size must be even\"\n",
    "        p, i = np.meshgrid(np.arange(max_length),\n",
    "                           2 * np.arange(embed_size // 2))\n",
    "        pos_emb = np.empty((1, max_length, embed_size))\n",
    "        pos_emb[0, :, ::2] = np.sin(p / 10_000 ** (i / embed_size)).T\n",
    "        pos_emb[0, :, 1::2] = np.cos(p / 10_000 ** (i / embed_size)).T\n",
    "        self.pos_encodings = tf.constant(pos_emb.astype(self.dtype))\n",
    "        self.supports_masking = True\n",
    "\n",
    "    def call(self, inputs):\n",
    "        batch_max_length = tf.shape(inputs)[1]\n",
    "        return inputs + self.pos_encodings[:, :batch_max_length]"
   ]
  },
  {
   "cell_type": "code",
   "execution_count": 52,
   "id": "15c7c717",
   "metadata": {},
   "outputs": [],
   "source": [
    "pos_embed_layer = PositionalEncoding(max_length, embed_size)\n",
    "encoder_in = pos_embed_layer(encoder_embeddings)\n",
    "decoder_in = pos_embed_layer(decoder_embeddings)"
   ]
  },
  {
   "cell_type": "code",
   "execution_count": 53,
   "id": "c11b5c97",
   "metadata": {},
   "outputs": [
    {
     "data": {
      "image/png": "[encoded data removed]",
      "text/plain": [
       "<Figure size 900x500 with 2 Axes>"
      ]
     },
     "metadata": {},
     "output_type": "display_data"
    }
   ],
   "source": [
    "figure_max_length = 201\n",
    "figure_embed_size = 512\n",
    "pos_emb = PositionalEncoding(figure_max_length, figure_embed_size)\n",
    "zeros = np.zeros((1, figure_max_length, figure_embed_size), np.float32)\n",
    "P = pos_emb(zeros)[0].numpy()\n",
    "i1, i2, crop_i = 100, 101, 150\n",
    "p1, p2, p3 = 22, 60, 35\n",
    "fig, (ax1, ax2) = plt.subplots(nrows=2, ncols=1, sharex=True, figsize=(9, 5))\n",
    "ax1.plot([p1, p1], [-1, 1], \"k--\", label=\"$p = {}$\".format(p1))\n",
    "ax1.plot([p2, p2], [-1, 1], \"k--\", label=\"$p = {}$\".format(p2), alpha=0.5)\n",
    "ax1.plot(p3, P[p3, i1], \"bx\", label=\"$p = {}$\".format(p3))\n",
    "ax1.plot(P[:,i1], \"b-\", label=\"$i = {}$\".format(i1))\n",
    "ax1.plot(P[:,i2], \"r-\", label=\"$i = {}$\".format(i2))\n",
    "ax1.plot([p1, p2], [P[p1, i1], P[p2, i1]], \"bo\")\n",
    "ax1.plot([p1, p2], [P[p1, i2], P[p2, i2]], \"ro\")\n",
    "ax1.legend(loc=\"center right\", fontsize=14, framealpha=0.95)\n",
    "ax1.set_ylabel(\"$P_{(p,i)}$\", rotation=0, fontsize=16)\n",
    "ax1.grid(True, alpha=0.3)\n",
    "ax1.hlines(0, 0, figure_max_length - 1, color=\"k\", linewidth=1, alpha=0.3)\n",
    "ax1.axis([0, figure_max_length - 1, -1, 1])\n",
    "ax2.imshow(P.T[:crop_i], cmap=\"gray\", interpolation=\"bilinear\", aspect=\"auto\")\n",
    "ax2.hlines(i1, 0, figure_max_length - 1, color=\"b\", linewidth=3)\n",
    "cheat = 2  # need to raise the red line a bit, or else it hides the blue one\n",
    "ax2.hlines(i2+cheat, 0, figure_max_length - 1, color=\"r\", linewidth=3)\n",
    "ax2.plot([p1, p1], [0, crop_i], \"k--\")\n",
    "ax2.plot([p2, p2], [0, crop_i], \"k--\", alpha=0.5)\n",
    "ax2.plot([p1, p2], [i2+cheat, i2+cheat], \"ro\")\n",
    "ax2.plot([p1, p2], [i1, i1], \"bo\")\n",
    "ax2.axis([0, figure_max_length - 1, 0, crop_i])\n",
    "ax2.set_xlabel(\"$p$\", fontsize=16)\n",
    "ax2.set_ylabel(\"$i$\", rotation=0, fontsize=16)\n",
    "plt.show()"
   ]
  },
  {
   "cell_type": "code",
   "execution_count": null,
   "id": "2ad46a41",
   "metadata": {},
   "outputs": [],
   "source": [
    "N = 2  # 원본 구조는 6\n",
    "num_heads = 8\n",
    "dropout_rate = 0.1\n",
    "n_units = 128  # 피드 포워드 블록의 첫 번째 Dense 층의 유닛 개수\n",
    "encoder_pad_mask = tf.math.not_equal(encoder_input_ids, 0)[:, tf.newaxis]\n",
    "Z = encoder_in\n",
    "for _ in range(N):\n",
    "    skip = Z\n",
    "    attn_layer = tf.keras.layers.MultiHeadAttention(\n",
    "        num_heads=num_heads, key_dim=embed_size, dropout=dropout_rate)\n",
    "    Z = attn_layer(Z, value=Z, attention_mask=encoder_pad_mask)\n",
    "    Z = tf.keras.layers.LayerNormalization()(tf.keras.layers.Add()([Z, skip]))\n",
    "    skip = Z\n",
    "    Z = tf.keras.layers.Dense(n_units, activation=\"relu\")(Z)\n",
    "    Z = tf.keras.layers.Dense(embed_size)(Z)\n",
    "    Z = tf.keras.layers.Dropout(dropout_rate)(Z)\n",
    "    Z = tf.keras.layers.LayerNormalization()(tf.keras.layers.Add()([Z, skip]))"
   ]
  },
  {
   "cell_type": "code",
   "execution_count": null,
   "id": "99d08aeb",
   "metadata": {},
   "outputs": [],
   "source": [
    "decoder_pad_mask = tf.math.not_equal(decoder_input_ids, 0)[:, tf.newaxis]\n",
    "causal_mask = tf.linalg.band_part(  # 하삼각행렬 생성\n",
    "    tf.ones((batch_max_len_dec, batch_max_len_dec), tf.bool), -1, 0)"
   ]
  },
  {
   "cell_type": "code",
   "execution_count": null,
   "id": "d211cb74",
   "metadata": {},
   "outputs": [],
   "source": [
    "encoder_outputs = Z  # 인코더의 최종 출력을 저장\n",
    "Z = decoder_in  # 디코더는 자체 입력으로 시작\n",
    "for _ in range(N):\n",
    "    skip = Z\n",
    "    attn_layer = tf.keras.layers.MultiHeadAttention(\n",
    "        num_heads=num_heads, key_dim=embed_size, dropout=dropout_rate)\n",
    "    Z = attn_layer(Z, value=Z, attention_mask=causal_mask & decoder_pad_mask)\n",
    "    Z = tf.keras.layers.LayerNormalization()(tf.keras.layers.Add()([Z, skip]))\n",
    "    skip = Z\n",
    "    attn_layer = tf.keras.layers.MultiHeadAttention(\n",
    "        num_heads=num_heads, key_dim=embed_size, dropout=dropout_rate)\n",
    "    Z = attn_layer(Z, value=encoder_outputs, attention_mask=encoder_pad_mask)\n",
    "    Z = tf.keras.layers.LayerNormalization()(tf.keras.layers.Add()([Z, skip]))\n",
    "    skip = Z\n",
    "    Z = tf.keras.layers.Dense(n_units, activation=\"relu\")(Z)\n",
    "    Z = tf.keras.layers.Dense(embed_size)(Z)\n",
    "    Z = tf.keras.layers.LayerNormalization()(tf.keras.layers.Add()([Z, skip]))"
   ]
  },
  {
   "cell_type": "code",
   "execution_count": null,
   "id": "6f6afb8f",
   "metadata": {},
   "outputs": [],
   "source": [
    "Y_proba = tf.keras.layers.Dense(vocab_size, activation=\"softmax\")(Z)\n",
    "model = tf.keras.Model(inputs=[encoder_inputs, decoder_inputs],\n",
    "                       outputs=[Y_proba])\n",
    "model.compile(loss=\"sparse_categorical_crossentropy\", optimizer=\"nadam\",\n",
    "              metrics=[\"accuracy\"])\n",
    "model.fit((X_train, X_train_dec), Y_train, epochs=10,\n",
    "          validation_data=((X_valid, X_valid_dec), Y_valid))"
   ]
  },
  {
   "cell_type": "code",
   "execution_count": null,
   "id": "5a95f256",
   "metadata": {},
   "outputs": [],
   "source": [
    "translate(\"I like soccer and also going to the beach\")"
   ]
  },
  {
   "cell_type": "code",
   "execution_count": 77,
   "id": "f6b842d5",
   "metadata": {},
   "outputs": [
    {
     "name": "stderr",
     "output_type": "stream",
     "text": [
      "No model was supplied, defaulted to distilbert-base-uncased-finetuned-sst-2-english and revision af0f99b (https://huggingface.co/distilbert-base-uncased-finetuned-sst-2-english).\n",
      "Using a pipeline without specifying a model name and revision in production is not recommended.\n",
      "All PyTorch model weights were used when initializing TFDistilBertForSequenceClassification.\n",
      "\n",
      "All the weights of TFDistilBertForSequenceClassification were initialized from the PyTorch model.\n",
      "If your task is similar to the task the model of the checkpoint was trained on, you can already use TFDistilBertForSequenceClassification for predictions without further training.\n"
     ]
    }
   ],
   "source": [
    "from transformers import pipeline\n",
    "\n",
    "classifier = pipeline(\"sentiment-analysis\") \n",
    "result = classifier(\"The actors were very convincing.\")"
   ]
  },
  {
   "cell_type": "code",
   "execution_count": 78,
   "id": "ef66e3a2",
   "metadata": {},
   "outputs": [
    {
     "data": {
      "text/plain": [
       "[{'label': 'POSITIVE', 'score': 0.9896161556243896},\n",
       " {'label': 'NEGATIVE', 'score': 0.9811071157455444}]"
      ]
     },
     "execution_count": 78,
     "metadata": {},
     "output_type": "execute_result"
    }
   ],
   "source": [
    "classifier([\"I am from India.\", \"I am from Iraq.\"])"
   ]
  },
  {
   "cell_type": "code",
   "execution_count": 79,
   "id": "e706d7b9",
   "metadata": {},
   "outputs": [
    {
     "name": "stderr",
     "output_type": "stream",
     "text": [
      "All PyTorch model weights were used when initializing TFDistilBertForSequenceClassification.\n",
      "\n",
      "All the weights of TFDistilBertForSequenceClassification were initialized from the PyTorch model.\n",
      "If your task is similar to the task the model of the checkpoint was trained on, you can already use TFDistilBertForSequenceClassification for predictions without further training.\n"
     ]
    },
    {
     "data": {
      "text/plain": [
       "[{'label': 'contradiction', 'score': 0.9790192246437073}]"
      ]
     },
     "execution_count": 79,
     "metadata": {},
     "output_type": "execute_result"
    }
   ],
   "source": [
    "model_name = \"huggingface/distilbert-base-uncased-finetuned-mnli\"\n",
    "classifier_mnli = pipeline(\"text-classification\", model=model_name)\n",
    "classifier_mnli(\"She loves me. [SEP] She loves me not.\")"
   ]
  },
  {
   "cell_type": "code",
   "execution_count": 80,
   "id": "b27a06d1",
   "metadata": {},
   "outputs": [
    {
     "name": "stderr",
     "output_type": "stream",
     "text": [
      "All PyTorch model weights were used when initializing TFDistilBertForSequenceClassification.\n",
      "\n",
      "All the weights of TFDistilBertForSequenceClassification were initialized from the PyTorch model.\n",
      "If your task is similar to the task the model of the checkpoint was trained on, you can already use TFDistilBertForSequenceClassification for predictions without further training.\n"
     ]
    }
   ],
   "source": [
    "from transformers import AutoTokenizer, TFAutoModelForSequenceClassification\n",
    "\n",
    "tokenizer = AutoTokenizer.from_pretrained(model_name)\n",
    "model = TFAutoModelForSequenceClassification.from_pretrained(model_name)"
   ]
  },
  {
   "cell_type": "code",
   "execution_count": 81,
   "id": "6254905d",
   "metadata": {},
   "outputs": [
    {
     "data": {
      "text/plain": [
       "{'input_ids': <tf.Tensor: shape=(2, 15), dtype=int32, numpy=\n",
       "array([[ 101, 1045, 2066, 4715, 1012,  102, 2057, 2035, 2293, 4715,  999,\n",
       "         102,    0,    0,    0],\n",
       "       [ 101, 3533, 2973, 2005, 1037, 2200, 2146, 2051, 1012,  102, 3533,\n",
       "        2003, 2214, 1012,  102]])>, 'attention_mask': <tf.Tensor: shape=(2, 15), dtype=int32, numpy=\n",
       "array([[1, 1, 1, 1, 1, 1, 1, 1, 1, 1, 1, 1, 0, 0, 0],\n",
       "       [1, 1, 1, 1, 1, 1, 1, 1, 1, 1, 1, 1, 1, 1, 1]])>}"
      ]
     },
     "execution_count": 81,
     "metadata": {},
     "output_type": "execute_result"
    }
   ],
   "source": [
    "token_ids = tokenizer([\"I like soccer. [SEP] We all love soccer!\",\n",
    "                       \"Joe lived for a very long time. [SEP] Joe is old.\"],\n",
    "                      padding=True, return_tensors=\"tf\")\n",
    "token_ids"
   ]
  },
  {
   "cell_type": "code",
   "execution_count": 82,
   "id": "48008eaa",
   "metadata": {},
   "outputs": [
    {
     "data": {
      "text/plain": [
       "TFSequenceClassifierOutput(loss=None, logits=<tf.Tensor: shape=(2, 3), dtype=float32, numpy=\n",
       "array([[-2.1123822 ,  1.1786789 ,  1.4101019 ],\n",
       "       [-0.01478221,  1.0962474 , -0.9919971 ]], dtype=float32)>, hidden_states=None, attentions=None)"
      ]
     },
     "execution_count": 82,
     "metadata": {},
     "output_type": "execute_result"
    }
   ],
   "source": [
    "outputs = model(token_ids)\n",
    "outputs"
   ]
  },
  {
   "cell_type": "code",
   "execution_count": 83,
   "id": "7f9d5af3",
   "metadata": {},
   "outputs": [
    {
     "data": {
      "text/plain": [
       "<tf.Tensor: shape=(2, 3), dtype=float32, numpy=\n",
       "array([[0.016197  , 0.4352355 , 0.5485675 ],\n",
       "       [0.22655998, 0.6881724 , 0.08526763]], dtype=float32)>"
      ]
     },
     "execution_count": 83,
     "metadata": {},
     "output_type": "execute_result"
    }
   ],
   "source": [
    "Y_probas = tf.keras.activations.softmax(outputs.logits)\n",
    "Y_probas"
   ]
  },
  {
   "cell_type": "code",
   "execution_count": 84,
   "id": "96791018",
   "metadata": {},
   "outputs": [
    {
     "data": {
      "text/plain": [
       "<tf.Tensor: shape=(2,), dtype=int64, numpy=array([2, 1], dtype=int64)>"
      ]
     },
     "execution_count": 84,
     "metadata": {},
     "output_type": "execute_result"
    }
   ],
   "source": [
    "Y_pred = tf.argmax(Y_probas, axis=1)\n",
    "Y_pred  # 0 = contradiction, 1 = entailment, 2 = neutral"
   ]
  },
  {
   "cell_type": "code",
   "execution_count": 85,
   "id": "de9898b1",
   "metadata": {},
   "outputs": [
    {
     "name": "stdout",
     "output_type": "stream",
     "text": [
      "Epoch 1/2\n",
      "1/1 [==============================] - 11s 11s/step - loss: 0.6666 - accuracy: 0.5000\n",
      "Epoch 2/2\n",
      "1/1 [==============================] - 0s 80ms/step - loss: 0.3184 - accuracy: 1.0000\n"
     ]
    }
   ],
   "source": [
    "sentences = [(\"Sky is blue\", \"Sky is red\"), (\"I love her\", \"She loves me\")]\n",
    "X_train = tokenizer(sentences, padding=True, return_tensors=\"tf\").data\n",
    "y_train = tf.constant([0, 2])  # contradiction, neutral\n",
    "loss = tf.keras.losses.SparseCategoricalCrossentropy(from_logits=True)\n",
    "model.compile(loss=loss, optimizer=\"nadam\", metrics=[\"accuracy\"])\n",
    "history = model.fit(X_train, y_train, epochs=2)"
   ]
  }
 ],
 "metadata": {
  "kernelspec": {
   "display_name": "Python 3 (ipykernel)",
   "language": "python",
   "name": "python3"
  },
  "language_info": {
   "codemirror_mode": {
    "name": "ipython",
    "version": 3
   },
   "file_extension": ".py",
   "mimetype": "text/x-python",
   "name": "python",
   "nbconvert_exporter": "python",
   "pygments_lexer": "ipython3",
   "version": "3.7.12"
  }
 },
 "nbformat": 4,
 "nbformat_minor": 5
}
